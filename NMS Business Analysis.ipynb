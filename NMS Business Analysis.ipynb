{
 "cells": [
  {
   "cell_type": "markdown",
   "id": "bf31f1d2",
   "metadata": {
    "heading_collapsed": true
   },
   "source": [
    "# Business Understanding"
   ]
  },
  {
   "cell_type": "markdown",
   "id": "5ba44f11",
   "metadata": {
    "hidden": true
   },
   "source": [
    "Our company is strategically venturing into the realm of original video content creation by establishing a movie studio, recognizing the trend set by large corporations. To ensure the success of this endeavor, I am undertaking a rigorous data analysis to identify the most appealing genres for our target audience, drawing insights from the preferences of viewers. The objective is to provide actionable recommendations to the studio head, enabling informed decisions regarding the types of films to produce for optimal audience engagement and commercial success. Through this data-driven approach, I aim to position our studio as a competitive player in the dynamic landscape of digital entertainment."
   ]
  },
  {
   "cell_type": "markdown",
   "id": "a9c85bd7",
   "metadata": {},
   "source": [
    "# Data Understanding"
   ]
  },
  {
   "cell_type": "markdown",
   "id": "d7ce6b0f",
   "metadata": {},
   "source": [
    "## 1. Data Preparation\n",
    "Loading data files to Notebook."
   ]
  },
  {
   "cell_type": "code",
   "execution_count": 1,
   "id": "c45f1f4e",
   "metadata": {},
   "outputs": [],
   "source": [
    "#Importing necessary libraries for the beginning of the data analysis\n",
    "import pandas as pd\n",
    "import numpy as np\n",
    "import sqlite3\n",
    "import matplotlib.pyplot as plt\n",
    "\n",
    "\n",
    "import seaborn as sns"
   ]
  },
  {
   "cell_type": "markdown",
   "id": "179d60b3",
   "metadata": {},
   "source": [
    "Loading a SQL database file by IMDB:"
   ]
  },
  {
   "cell_type": "code",
   "execution_count": 2,
   "id": "3f77edc5",
   "metadata": {},
   "outputs": [
    {
     "data": {
      "text/html": [
       "<div>\n",
       "<style scoped>\n",
       "    .dataframe tbody tr th:only-of-type {\n",
       "        vertical-align: middle;\n",
       "    }\n",
       "\n",
       "    .dataframe tbody tr th {\n",
       "        vertical-align: top;\n",
       "    }\n",
       "\n",
       "    .dataframe thead th {\n",
       "        text-align: right;\n",
       "    }\n",
       "</style>\n",
       "<table border=\"1\" class=\"dataframe\">\n",
       "  <thead>\n",
       "    <tr style=\"text-align: right;\">\n",
       "      <th></th>\n",
       "      <th>name</th>\n",
       "    </tr>\n",
       "  </thead>\n",
       "  <tbody>\n",
       "    <tr>\n",
       "      <th>0</th>\n",
       "      <td>movie_basics</td>\n",
       "    </tr>\n",
       "    <tr>\n",
       "      <th>1</th>\n",
       "      <td>directors</td>\n",
       "    </tr>\n",
       "    <tr>\n",
       "      <th>2</th>\n",
       "      <td>known_for</td>\n",
       "    </tr>\n",
       "    <tr>\n",
       "      <th>3</th>\n",
       "      <td>movie_akas</td>\n",
       "    </tr>\n",
       "    <tr>\n",
       "      <th>4</th>\n",
       "      <td>movie_ratings</td>\n",
       "    </tr>\n",
       "    <tr>\n",
       "      <th>5</th>\n",
       "      <td>persons</td>\n",
       "    </tr>\n",
       "    <tr>\n",
       "      <th>6</th>\n",
       "      <td>principals</td>\n",
       "    </tr>\n",
       "    <tr>\n",
       "      <th>7</th>\n",
       "      <td>writers</td>\n",
       "    </tr>\n",
       "  </tbody>\n",
       "</table>\n",
       "</div>"
      ],
      "text/plain": [
       "            name\n",
       "0   movie_basics\n",
       "1      directors\n",
       "2      known_for\n",
       "3     movie_akas\n",
       "4  movie_ratings\n",
       "5        persons\n",
       "6     principals\n",
       "7        writers"
      ]
     },
     "execution_count": 2,
     "metadata": {},
     "output_type": "execute_result"
    }
   ],
   "source": [
    "#Creating a connection with the SQL data file\n",
    "connection = sqlite3.connect('im.db')\n",
    "sql_query = \"\"\"SELECT name FROM sqlite_master  \n",
    "  WHERE type='table';\"\"\"\n",
    "cursor = connection.cursor()\n",
    "pd.read_sql(sql_query, connection) #reading the sql data file with pandas function\n",
    "#the names of the different tables in the dataframe will be shown below"
   ]
  },
  {
   "cell_type": "markdown",
   "id": "50d2e418",
   "metadata": {},
   "source": [
    "Loading the CSV files:"
   ]
  },
  {
   "cell_type": "code",
   "execution_count": 3,
   "id": "aadbae49",
   "metadata": {
    "scrolled": true
   },
   "outputs": [
    {
     "ename": "FileNotFoundError",
     "evalue": "[Errno 2] No such file or directory: 'bom.movie_gross.csv.gz'",
     "output_type": "error",
     "traceback": [
      "\u001b[0;31m---------------------------------------------------------------------------\u001b[0m",
      "\u001b[0;31mFileNotFoundError\u001b[0m                         Traceback (most recent call last)",
      "\u001b[0;32m<ipython-input-3-ecad69deb4fe>\u001b[0m in \u001b[0;36m<module>\u001b[0;34m\u001b[0m\n\u001b[1;32m      1\u001b[0m \u001b[0;31m#Using panda's read_csv to open different data files needed for the analysis\u001b[0m\u001b[0;34m\u001b[0m\u001b[0;34m\u001b[0m\u001b[0;34m\u001b[0m\u001b[0m\n\u001b[0;32m----> 2\u001b[0;31m \u001b[0mbox_office\u001b[0m\u001b[0;34m=\u001b[0m \u001b[0mpd\u001b[0m\u001b[0;34m.\u001b[0m\u001b[0mread_csv\u001b[0m\u001b[0;34m(\u001b[0m\u001b[0;34m'bom.movie_gross.csv.gz'\u001b[0m\u001b[0;34m)\u001b[0m\u001b[0;34m\u001b[0m\u001b[0;34m\u001b[0m\u001b[0m\n\u001b[0m\u001b[1;32m      3\u001b[0m \u001b[0mthenumbers\u001b[0m\u001b[0;34m=\u001b[0m\u001b[0mpd\u001b[0m\u001b[0;34m.\u001b[0m\u001b[0mread_csv\u001b[0m\u001b[0;34m(\u001b[0m\u001b[0;34m'tn.movie_budgets.csv.gz'\u001b[0m\u001b[0;34m)\u001b[0m\u001b[0;34m\u001b[0m\u001b[0;34m\u001b[0m\u001b[0m\n\u001b[1;32m      4\u001b[0m \u001b[0mmoviedb\u001b[0m\u001b[0;34m=\u001b[0m\u001b[0mpd\u001b[0m\u001b[0;34m.\u001b[0m\u001b[0mread_csv\u001b[0m\u001b[0;34m(\u001b[0m\u001b[0;34m'tmdb.movies.csv.gz'\u001b[0m\u001b[0;34m)\u001b[0m\u001b[0;34m\u001b[0m\u001b[0;34m\u001b[0m\u001b[0m\n\u001b[1;32m      5\u001b[0m \u001b[0mrt_info\u001b[0m\u001b[0;34m=\u001b[0m \u001b[0mpd\u001b[0m\u001b[0;34m.\u001b[0m\u001b[0mread_csv\u001b[0m\u001b[0;34m(\u001b[0m\u001b[0;34m'rt.movie_info.tsv.gz'\u001b[0m\u001b[0;34m,\u001b[0m \u001b[0mcompression\u001b[0m\u001b[0;34m=\u001b[0m\u001b[0;34m'gzip'\u001b[0m\u001b[0;34m,\u001b[0m \u001b[0mdelimiter\u001b[0m\u001b[0;34m=\u001b[0m\u001b[0;34m'\\t'\u001b[0m\u001b[0;34m)\u001b[0m\u001b[0;34m\u001b[0m\u001b[0;34m\u001b[0m\u001b[0m\n",
      "\u001b[0;32m~/anaconda3/envs/learn-env/lib/python3.8/site-packages/pandas/io/parsers.py\u001b[0m in \u001b[0;36mread_csv\u001b[0;34m(filepath_or_buffer, sep, delimiter, header, names, index_col, usecols, squeeze, prefix, mangle_dupe_cols, dtype, engine, converters, true_values, false_values, skipinitialspace, skiprows, skipfooter, nrows, na_values, keep_default_na, na_filter, verbose, skip_blank_lines, parse_dates, infer_datetime_format, keep_date_col, date_parser, dayfirst, cache_dates, iterator, chunksize, compression, thousands, decimal, lineterminator, quotechar, quoting, doublequote, escapechar, comment, encoding, dialect, error_bad_lines, warn_bad_lines, delim_whitespace, low_memory, memory_map, float_precision)\u001b[0m\n\u001b[1;32m    684\u001b[0m     )\n\u001b[1;32m    685\u001b[0m \u001b[0;34m\u001b[0m\u001b[0m\n\u001b[0;32m--> 686\u001b[0;31m     \u001b[0;32mreturn\u001b[0m \u001b[0m_read\u001b[0m\u001b[0;34m(\u001b[0m\u001b[0mfilepath_or_buffer\u001b[0m\u001b[0;34m,\u001b[0m \u001b[0mkwds\u001b[0m\u001b[0;34m)\u001b[0m\u001b[0;34m\u001b[0m\u001b[0;34m\u001b[0m\u001b[0m\n\u001b[0m\u001b[1;32m    687\u001b[0m \u001b[0;34m\u001b[0m\u001b[0m\n\u001b[1;32m    688\u001b[0m \u001b[0;34m\u001b[0m\u001b[0m\n",
      "\u001b[0;32m~/anaconda3/envs/learn-env/lib/python3.8/site-packages/pandas/io/parsers.py\u001b[0m in \u001b[0;36m_read\u001b[0;34m(filepath_or_buffer, kwds)\u001b[0m\n\u001b[1;32m    450\u001b[0m \u001b[0;34m\u001b[0m\u001b[0m\n\u001b[1;32m    451\u001b[0m     \u001b[0;31m# Create the parser.\u001b[0m\u001b[0;34m\u001b[0m\u001b[0;34m\u001b[0m\u001b[0;34m\u001b[0m\u001b[0m\n\u001b[0;32m--> 452\u001b[0;31m     \u001b[0mparser\u001b[0m \u001b[0;34m=\u001b[0m \u001b[0mTextFileReader\u001b[0m\u001b[0;34m(\u001b[0m\u001b[0mfp_or_buf\u001b[0m\u001b[0;34m,\u001b[0m \u001b[0;34m**\u001b[0m\u001b[0mkwds\u001b[0m\u001b[0;34m)\u001b[0m\u001b[0;34m\u001b[0m\u001b[0;34m\u001b[0m\u001b[0m\n\u001b[0m\u001b[1;32m    453\u001b[0m \u001b[0;34m\u001b[0m\u001b[0m\n\u001b[1;32m    454\u001b[0m     \u001b[0;32mif\u001b[0m \u001b[0mchunksize\u001b[0m \u001b[0;32mor\u001b[0m \u001b[0miterator\u001b[0m\u001b[0;34m:\u001b[0m\u001b[0;34m\u001b[0m\u001b[0;34m\u001b[0m\u001b[0m\n",
      "\u001b[0;32m~/anaconda3/envs/learn-env/lib/python3.8/site-packages/pandas/io/parsers.py\u001b[0m in \u001b[0;36m__init__\u001b[0;34m(self, f, engine, **kwds)\u001b[0m\n\u001b[1;32m    944\u001b[0m             \u001b[0mself\u001b[0m\u001b[0;34m.\u001b[0m\u001b[0moptions\u001b[0m\u001b[0;34m[\u001b[0m\u001b[0;34m\"has_index_names\"\u001b[0m\u001b[0;34m]\u001b[0m \u001b[0;34m=\u001b[0m \u001b[0mkwds\u001b[0m\u001b[0;34m[\u001b[0m\u001b[0;34m\"has_index_names\"\u001b[0m\u001b[0;34m]\u001b[0m\u001b[0;34m\u001b[0m\u001b[0;34m\u001b[0m\u001b[0m\n\u001b[1;32m    945\u001b[0m \u001b[0;34m\u001b[0m\u001b[0m\n\u001b[0;32m--> 946\u001b[0;31m         \u001b[0mself\u001b[0m\u001b[0;34m.\u001b[0m\u001b[0m_make_engine\u001b[0m\u001b[0;34m(\u001b[0m\u001b[0mself\u001b[0m\u001b[0;34m.\u001b[0m\u001b[0mengine\u001b[0m\u001b[0;34m)\u001b[0m\u001b[0;34m\u001b[0m\u001b[0;34m\u001b[0m\u001b[0m\n\u001b[0m\u001b[1;32m    947\u001b[0m \u001b[0;34m\u001b[0m\u001b[0m\n\u001b[1;32m    948\u001b[0m     \u001b[0;32mdef\u001b[0m \u001b[0mclose\u001b[0m\u001b[0;34m(\u001b[0m\u001b[0mself\u001b[0m\u001b[0;34m)\u001b[0m\u001b[0;34m:\u001b[0m\u001b[0;34m\u001b[0m\u001b[0;34m\u001b[0m\u001b[0m\n",
      "\u001b[0;32m~/anaconda3/envs/learn-env/lib/python3.8/site-packages/pandas/io/parsers.py\u001b[0m in \u001b[0;36m_make_engine\u001b[0;34m(self, engine)\u001b[0m\n\u001b[1;32m   1176\u001b[0m     \u001b[0;32mdef\u001b[0m \u001b[0m_make_engine\u001b[0m\u001b[0;34m(\u001b[0m\u001b[0mself\u001b[0m\u001b[0;34m,\u001b[0m \u001b[0mengine\u001b[0m\u001b[0;34m=\u001b[0m\u001b[0;34m\"c\"\u001b[0m\u001b[0;34m)\u001b[0m\u001b[0;34m:\u001b[0m\u001b[0;34m\u001b[0m\u001b[0;34m\u001b[0m\u001b[0m\n\u001b[1;32m   1177\u001b[0m         \u001b[0;32mif\u001b[0m \u001b[0mengine\u001b[0m \u001b[0;34m==\u001b[0m \u001b[0;34m\"c\"\u001b[0m\u001b[0;34m:\u001b[0m\u001b[0;34m\u001b[0m\u001b[0;34m\u001b[0m\u001b[0m\n\u001b[0;32m-> 1178\u001b[0;31m             \u001b[0mself\u001b[0m\u001b[0;34m.\u001b[0m\u001b[0m_engine\u001b[0m \u001b[0;34m=\u001b[0m \u001b[0mCParserWrapper\u001b[0m\u001b[0;34m(\u001b[0m\u001b[0mself\u001b[0m\u001b[0;34m.\u001b[0m\u001b[0mf\u001b[0m\u001b[0;34m,\u001b[0m \u001b[0;34m**\u001b[0m\u001b[0mself\u001b[0m\u001b[0;34m.\u001b[0m\u001b[0moptions\u001b[0m\u001b[0;34m)\u001b[0m\u001b[0;34m\u001b[0m\u001b[0;34m\u001b[0m\u001b[0m\n\u001b[0m\u001b[1;32m   1179\u001b[0m         \u001b[0;32melse\u001b[0m\u001b[0;34m:\u001b[0m\u001b[0;34m\u001b[0m\u001b[0;34m\u001b[0m\u001b[0m\n\u001b[1;32m   1180\u001b[0m             \u001b[0;32mif\u001b[0m \u001b[0mengine\u001b[0m \u001b[0;34m==\u001b[0m \u001b[0;34m\"python\"\u001b[0m\u001b[0;34m:\u001b[0m\u001b[0;34m\u001b[0m\u001b[0;34m\u001b[0m\u001b[0m\n",
      "\u001b[0;32m~/anaconda3/envs/learn-env/lib/python3.8/site-packages/pandas/io/parsers.py\u001b[0m in \u001b[0;36m__init__\u001b[0;34m(self, src, **kwds)\u001b[0m\n\u001b[1;32m   2006\u001b[0m         \u001b[0mkwds\u001b[0m\u001b[0;34m[\u001b[0m\u001b[0;34m\"usecols\"\u001b[0m\u001b[0;34m]\u001b[0m \u001b[0;34m=\u001b[0m \u001b[0mself\u001b[0m\u001b[0;34m.\u001b[0m\u001b[0musecols\u001b[0m\u001b[0;34m\u001b[0m\u001b[0;34m\u001b[0m\u001b[0m\n\u001b[1;32m   2007\u001b[0m \u001b[0;34m\u001b[0m\u001b[0m\n\u001b[0;32m-> 2008\u001b[0;31m         \u001b[0mself\u001b[0m\u001b[0;34m.\u001b[0m\u001b[0m_reader\u001b[0m \u001b[0;34m=\u001b[0m \u001b[0mparsers\u001b[0m\u001b[0;34m.\u001b[0m\u001b[0mTextReader\u001b[0m\u001b[0;34m(\u001b[0m\u001b[0msrc\u001b[0m\u001b[0;34m,\u001b[0m \u001b[0;34m**\u001b[0m\u001b[0mkwds\u001b[0m\u001b[0;34m)\u001b[0m\u001b[0;34m\u001b[0m\u001b[0;34m\u001b[0m\u001b[0m\n\u001b[0m\u001b[1;32m   2009\u001b[0m         \u001b[0mself\u001b[0m\u001b[0;34m.\u001b[0m\u001b[0munnamed_cols\u001b[0m \u001b[0;34m=\u001b[0m \u001b[0mself\u001b[0m\u001b[0;34m.\u001b[0m\u001b[0m_reader\u001b[0m\u001b[0;34m.\u001b[0m\u001b[0munnamed_cols\u001b[0m\u001b[0;34m\u001b[0m\u001b[0;34m\u001b[0m\u001b[0m\n\u001b[1;32m   2010\u001b[0m \u001b[0;34m\u001b[0m\u001b[0m\n",
      "\u001b[0;32mpandas/_libs/parsers.pyx\u001b[0m in \u001b[0;36mpandas._libs.parsers.TextReader.__cinit__\u001b[0;34m()\u001b[0m\n",
      "\u001b[0;32mpandas/_libs/parsers.pyx\u001b[0m in \u001b[0;36mpandas._libs.parsers.TextReader._setup_parser_source\u001b[0;34m()\u001b[0m\n",
      "\u001b[0;32m~/anaconda3/envs/learn-env/lib/python3.8/gzip.py\u001b[0m in \u001b[0;36m__init__\u001b[0;34m(self, filename, mode, compresslevel, fileobj, mtime)\u001b[0m\n\u001b[1;32m    171\u001b[0m             \u001b[0mmode\u001b[0m \u001b[0;34m+=\u001b[0m \u001b[0;34m'b'\u001b[0m\u001b[0;34m\u001b[0m\u001b[0;34m\u001b[0m\u001b[0m\n\u001b[1;32m    172\u001b[0m         \u001b[0;32mif\u001b[0m \u001b[0mfileobj\u001b[0m \u001b[0;32mis\u001b[0m \u001b[0;32mNone\u001b[0m\u001b[0;34m:\u001b[0m\u001b[0;34m\u001b[0m\u001b[0;34m\u001b[0m\u001b[0m\n\u001b[0;32m--> 173\u001b[0;31m             \u001b[0mfileobj\u001b[0m \u001b[0;34m=\u001b[0m \u001b[0mself\u001b[0m\u001b[0;34m.\u001b[0m\u001b[0mmyfileobj\u001b[0m \u001b[0;34m=\u001b[0m \u001b[0mbuiltins\u001b[0m\u001b[0;34m.\u001b[0m\u001b[0mopen\u001b[0m\u001b[0;34m(\u001b[0m\u001b[0mfilename\u001b[0m\u001b[0;34m,\u001b[0m \u001b[0mmode\u001b[0m \u001b[0;32mor\u001b[0m \u001b[0;34m'rb'\u001b[0m\u001b[0;34m)\u001b[0m\u001b[0;34m\u001b[0m\u001b[0;34m\u001b[0m\u001b[0m\n\u001b[0m\u001b[1;32m    174\u001b[0m         \u001b[0;32mif\u001b[0m \u001b[0mfilename\u001b[0m \u001b[0;32mis\u001b[0m \u001b[0;32mNone\u001b[0m\u001b[0;34m:\u001b[0m\u001b[0;34m\u001b[0m\u001b[0;34m\u001b[0m\u001b[0m\n\u001b[1;32m    175\u001b[0m             \u001b[0mfilename\u001b[0m \u001b[0;34m=\u001b[0m \u001b[0mgetattr\u001b[0m\u001b[0;34m(\u001b[0m\u001b[0mfileobj\u001b[0m\u001b[0;34m,\u001b[0m \u001b[0;34m'name'\u001b[0m\u001b[0;34m,\u001b[0m \u001b[0;34m''\u001b[0m\u001b[0;34m)\u001b[0m\u001b[0;34m\u001b[0m\u001b[0;34m\u001b[0m\u001b[0m\n",
      "\u001b[0;31mFileNotFoundError\u001b[0m: [Errno 2] No such file or directory: 'bom.movie_gross.csv.gz'"
     ]
    }
   ],
   "source": [
    "#Using panda's read_csv to open different data files needed for the analysis\n",
    "box_office= pd.read_csv('bom.movie_gross.csv.gz')\n",
    "thenumbers=pd.read_csv('tn.movie_budgets.csv.gz')\n",
    "moviedb=pd.read_csv('tmdb.movies.csv.gz')\n",
    "rt_info= pd.read_csv('rt.movie_info.tsv.gz', compression='gzip', delimiter='\\t')\n",
    "rt_reviews=pd.read_csv('rt.reviews.tsv.gz', compression='gzip', delimiter='\\t', encoding='latin1')"
   ]
  },
  {
   "cell_type": "markdown",
   "id": "622ae413",
   "metadata": {},
   "source": [
    "Now that the data is loaded into this notebook, we can proceed with the data cleaning process for each data file. "
   ]
  },
  {
   "cell_type": "markdown",
   "id": "e7d629e9",
   "metadata": {},
   "source": [
    "## 2. Data Cleaning\n",
    "Cleaning the data files that will be used for this analysis."
   ]
  },
  {
   "cell_type": "markdown",
   "id": "3bdfd38b",
   "metadata": {},
   "source": [
    "I will start the Data Cleaning process separating the 5 data files in 3 sections. To get more detailed information you can click on the dropdown button or click on the title to open the detailed lines of code used. Each line of code has specific detailed on what process is happening per line."
   ]
  },
  {
   "cell_type": "markdown",
   "id": "868e52bc",
   "metadata": {
    "heading_collapsed": true
   },
   "source": [
    "### SQL IMDB Data File\n",
    "Starting with the exploration of the SQL datafile.\\\n",
    "Selecting the ratings on movies in the US, filtering the number of votes to over 300 votes to be considered and focusing on movies relevant in the past 24 years.\\\n",
    "A new panda dataframe is created with the relevant information for analysis."
   ]
  },
  {
   "cell_type": "code",
   "execution_count": null,
   "id": "8f1bdd83",
   "metadata": {
    "hidden": true
   },
   "outputs": [],
   "source": [
    "#Selecting relevant columns from the different tables in the Data File with the relevant filters.\n",
    "#filtering number of votes to over 3000\n",
    "query=\"\"\" \n",
    "SELECT r.movie_id, b.primary_title AS title , b.genres, r.averagerating AS avg_rating, \n",
    "    r.numvotes, a.region, primary_name as director, b.start_year, b.runtime_minutes AS mov_minutes \n",
    "FROM movie_ratings r \n",
    "JOIN movie_basics b ON r.movie_id=b.movie_id \n",
    "JOIN movie_akas a ON a.movie_id=b.movie_id \n",
    "JOIN directors d ON d.movie_id=a.movie_id \n",
    "JOIN persons p ON p.person_id=d.person_id \n",
    "WHERE r.numvotes > 3000 AND region='US' AND start_year >= 2000  \n",
    "ORDER BY averagerating DESC\n",
    ";\"\"\"\n",
    "#Creating a panda dataframe 'df' of the SQL data file\n",
    "df=pd.read_sql(query,connection)"
   ]
  },
  {
   "cell_type": "code",
   "execution_count": null,
   "id": "f221e896",
   "metadata": {
    "hidden": true
   },
   "outputs": [],
   "source": [
    "#Dataframe starts with 20,832 rows of data\n",
    "df.info()"
   ]
  },
  {
   "cell_type": "code",
   "execution_count": null,
   "id": "483c9664",
   "metadata": {
    "hidden": true,
    "scrolled": true
   },
   "outputs": [],
   "source": [
    "#Dropping duplicates from the movie_id column\n",
    "df=df.drop_duplicates(subset=['movie_id'])"
   ]
  },
  {
   "cell_type": "code",
   "execution_count": null,
   "id": "e01783da",
   "metadata": {
    "hidden": true
   },
   "outputs": [],
   "source": [
    "#dropping the duplicates of 'movie_id' we get 3,391 unique rows of data\n",
    "df.info()"
   ]
  },
  {
   "cell_type": "code",
   "execution_count": null,
   "id": "f90d82ac",
   "metadata": {
    "hidden": true
   },
   "outputs": [],
   "source": [
    "#Changing the value type of 'mov_minutes' and 'numvotes' to integer\n",
    "df['mov_minutes'] = df['mov_minutes'].astype(int)\n",
    "df['numvotes'] = df['numvotes'].astype(int)"
   ]
  },
  {
   "cell_type": "code",
   "execution_count": null,
   "id": "70615fd5",
   "metadata": {
    "hidden": true,
    "scrolled": true
   },
   "outputs": [],
   "source": [
    "#Dropping duplicates from the column title, 19 rows dropped (0.006% of the rows)\n",
    "df=df.drop_duplicates(subset=['title'])"
   ]
  },
  {
   "cell_type": "code",
   "execution_count": null,
   "id": "860359f1",
   "metadata": {
    "hidden": true
   },
   "outputs": [],
   "source": [
    "#Checking for NAs in the dataframe\n",
    "df.isna().sum()"
   ]
  },
  {
   "cell_type": "code",
   "execution_count": null,
   "id": "6de7dc77",
   "metadata": {
    "hidden": true,
    "scrolled": true
   },
   "outputs": [],
   "source": [
    "#checking the information per column\n",
    "df.info()"
   ]
  },
  {
   "cell_type": "markdown",
   "id": "0ff4ec84",
   "metadata": {
    "hidden": true
   },
   "source": [
    "A recommendation will be made based on the genre of movies using this dataframe, therefore I will be filtering the most relevant genres that are needed for the analysis."
   ]
  },
  {
   "cell_type": "code",
   "execution_count": null,
   "id": "02df8b3d",
   "metadata": {
    "hidden": true,
    "scrolled": true
   },
   "outputs": [],
   "source": [
    "#The count of values in the genres column goes from 1 to 161\n",
    "df['genres'].value_counts()"
   ]
  },
  {
   "cell_type": "markdown",
   "id": "811081d2",
   "metadata": {
    "hidden": true
   },
   "source": [
    "Given that the value count of genres is from 1 to 161, I will be using the most relevant genres. I estimate that analyzing genres with count over 50 will be the best approach."
   ]
  },
  {
   "cell_type": "code",
   "execution_count": null,
   "id": "3129406d",
   "metadata": {
    "hidden": true,
    "scrolled": false
   },
   "outputs": [],
   "source": [
    "#creating the variable genre_counts with the value_counts function\n",
    "genre_counts = df['genres'].value_counts()\n",
    "#creating a list of genres that have a count greater than 50\n",
    "genres_over50 = genre_counts[genre_counts > 50].index.tolist()\n",
    "#using the isin() method to filter the dataframe based on the selected genres over 50 count\n",
    "df1 = df[df['genres'].isin(genres_over50)]    "
   ]
  },
  {
   "cell_type": "code",
   "execution_count": null,
   "id": "83814c00",
   "metadata": {
    "hidden": true,
    "scrolled": false
   },
   "outputs": [],
   "source": [
    "#Checking the cleaned dataframe from IMDB \n",
    "#new name of the filtered dataframe\n",
    "df1.head()"
   ]
  },
  {
   "cell_type": "markdown",
   "id": "496a5c3a",
   "metadata": {
    "heading_collapsed": true
   },
   "source": [
    "### Rotten Tomatoes Data Files"
   ]
  },
  {
   "cell_type": "markdown",
   "id": "d17f212c",
   "metadata": {
    "hidden": true
   },
   "source": [
    "Getting detailed information of the Rotten Tomatoes Info data file per column.\n",
    "The rt_info data frame has 1560 rows and 12 columns of data."
   ]
  },
  {
   "cell_type": "code",
   "execution_count": null,
   "id": "b6410889",
   "metadata": {
    "hidden": true,
    "scrolled": true
   },
   "outputs": [],
   "source": [
    "#checking info per column\n",
    "rt_info.info()"
   ]
  },
  {
   "cell_type": "code",
   "execution_count": null,
   "id": "586cea1c",
   "metadata": {
    "hidden": true
   },
   "outputs": [],
   "source": [
    "#Changing the date column to datetime format\n",
    "rt_info['theater_date'] = pd.to_datetime(rt_info['theater_date'])"
   ]
  },
  {
   "cell_type": "code",
   "execution_count": null,
   "id": "35ba2d75",
   "metadata": {
    "hidden": true
   },
   "outputs": [],
   "source": [
    "#creating new columns for month and year\n",
    "rt_info['theater_month']=rt_info['theater_date'].dt.month\n",
    "rt_info['theater_year']=rt_info['theater_date'].dt.year"
   ]
  },
  {
   "cell_type": "code",
   "execution_count": null,
   "id": "d46a3da1",
   "metadata": {
    "hidden": true
   },
   "outputs": [],
   "source": [
    "#Filtering movies from 2000 until now in the 'theater_year' column\n",
    "rt_info=rt_info[(rt_info['theater_year']>=2000)]"
   ]
  },
  {
   "cell_type": "code",
   "execution_count": null,
   "id": "0ebc202b",
   "metadata": {
    "hidden": true
   },
   "outputs": [],
   "source": [
    "#dropping NA values from the box office column\n",
    "rt_info=rt_info.dropna(subset=['box_office'])"
   ]
  },
  {
   "cell_type": "markdown",
   "id": "90ef9fa6",
   "metadata": {
    "hidden": true
   },
   "source": [
    "To not lose valuable information I will fill the corresponding director, writer and studio columns NA values with the string 'Not Available'."
   ]
  },
  {
   "cell_type": "code",
   "execution_count": null,
   "id": "933c01d9",
   "metadata": {
    "hidden": true
   },
   "outputs": [],
   "source": [
    "#replacing NA values with string\n",
    "rt_info.loc[:, 'director'] = rt_info['director'].fillna('Not Available')\n",
    "rt_info.loc[:, 'studio'] = rt_info['studio'].fillna('Not Available')"
   ]
  },
  {
   "cell_type": "code",
   "execution_count": null,
   "id": "dffa683c",
   "metadata": {
    "hidden": true
   },
   "outputs": [],
   "source": [
    "#dropping NA values from the runtime column\n",
    "rt_info.dropna(subset=['runtime'], inplace=True)"
   ]
  },
  {
   "cell_type": "code",
   "execution_count": null,
   "id": "90f8d12b",
   "metadata": {
    "hidden": true
   },
   "outputs": [],
   "source": [
    "#Dropping columns that are not necessary for analysis\n",
    "rt_info.drop(columns=['theater_date', 'dvd_date', 'writer', 'synopsis', 'currency'], inplace=True)"
   ]
  },
  {
   "cell_type": "code",
   "execution_count": null,
   "id": "a6a753c7",
   "metadata": {
    "hidden": true,
    "scrolled": true
   },
   "outputs": [],
   "source": [
    "#checking for the NA values per column\n",
    "rt_info.isna().sum()"
   ]
  },
  {
   "cell_type": "code",
   "execution_count": null,
   "id": "4ffd2c2d",
   "metadata": {
    "hidden": true
   },
   "outputs": [],
   "source": [
    "#checking the value count in the runtime column\n",
    "rt_info['runtime'].value_counts()"
   ]
  },
  {
   "cell_type": "code",
   "execution_count": null,
   "id": "aaf974ac",
   "metadata": {
    "hidden": true
   },
   "outputs": [],
   "source": [
    "# Extracting the first numbers from the runtime column\n",
    "rt_info['runtime']=rt_info['runtime'].str.extract('(\\d+)').astype(int)"
   ]
  },
  {
   "cell_type": "code",
   "execution_count": null,
   "id": "25e354cf",
   "metadata": {
    "hidden": true
   },
   "outputs": [],
   "source": [
    "#changing the box office, month and year columns to integer type value for easier analysis\n",
    "rt_info['box_office'] = rt_info['box_office'].str.replace(',', '').astype(int)\n",
    "rt_info['theater_month']=rt_info['theater_month'].astype(int)\n",
    "rt_info['theater_year']=rt_info['theater_year'].astype(int)"
   ]
  },
  {
   "cell_type": "code",
   "execution_count": null,
   "id": "3832bcec",
   "metadata": {
    "hidden": true,
    "scrolled": true
   },
   "outputs": [],
   "source": [
    "#setting the float format from the dataframe to display numbers with 2 decimal places\n",
    "pd.options.display.float_format = '{:.2f}'.format\n",
    "\n",
    "#calling the describe info\n",
    "rt_info.describe()"
   ]
  },
  {
   "cell_type": "markdown",
   "id": "89eebcaf",
   "metadata": {
    "hidden": true
   },
   "source": [
    "In the rating column, I will be filtering out the ratings that are not part of the Film Rating System."
   ]
  },
  {
   "cell_type": "code",
   "execution_count": null,
   "id": "5e8a9bf3",
   "metadata": {
    "hidden": true
   },
   "outputs": [],
   "source": [
    "#checking the values and counts from the rating column\n",
    "rt_info['rating'].value_counts()\n",
    "\n",
    "#keeping values that are not NR and NC17 because they are not considered ratings in the film rating system\n",
    "rt_info = rt_info[~rt_info['rating'].isin(['NR', 'NC17'])]\n",
    "\n",
    "#checking the values\n",
    "print(rt_info['rating'])"
   ]
  },
  {
   "cell_type": "markdown",
   "id": "9094d7c0",
   "metadata": {
    "hidden": true
   },
   "source": [
    "2nd Data file from rotten tomatoes website.\n",
    "\n",
    "Starting the data cleaning of Rotten Tomatoes Reviews. The data file contains 54,432 rows of data, and 8 columns of information."
   ]
  },
  {
   "cell_type": "code",
   "execution_count": null,
   "id": "eb25b678",
   "metadata": {
    "hidden": true,
    "scrolled": true
   },
   "outputs": [],
   "source": [
    "#Checking for missing information per column\n",
    "rt_reviews.info()"
   ]
  },
  {
   "cell_type": "markdown",
   "id": "bde80ad8",
   "metadata": {
    "hidden": true
   },
   "source": [
    "I don't want to lose the rating of a movie just because the critic did not leave a review. So the missing reviews will be filled with the word 'None'."
   ]
  },
  {
   "cell_type": "code",
   "execution_count": null,
   "id": "d6f054d5",
   "metadata": {
    "hidden": true
   },
   "outputs": [],
   "source": [
    "#Changing missing reviews to 'None'\n",
    "rt_reviews['review']=rt_reviews['review'].fillna('None')"
   ]
  },
  {
   "cell_type": "code",
   "execution_count": null,
   "id": "c9d8bb99",
   "metadata": {
    "hidden": true
   },
   "outputs": [],
   "source": [
    "#dropping the NAs in the publisher column\n",
    "rt_reviews.dropna(subset=['publisher'], inplace=True)"
   ]
  },
  {
   "cell_type": "markdown",
   "id": "23bd5e22",
   "metadata": {
    "hidden": true
   },
   "source": [
    "NA values in the rating column that are missing will be dropped. There is not a way to validate/confirm the 'fresh' column without the rating."
   ]
  },
  {
   "cell_type": "code",
   "execution_count": null,
   "id": "d9fd7436",
   "metadata": {
    "hidden": true
   },
   "outputs": [],
   "source": [
    "#Dropping NAs in rating column\n",
    "rt_reviews.dropna(subset=['rating'], inplace=True)"
   ]
  },
  {
   "cell_type": "code",
   "execution_count": null,
   "id": "e39f19e5",
   "metadata": {
    "hidden": true
   },
   "outputs": [],
   "source": [
    "#Dropping NAs from the critics column\n",
    "rt_reviews.dropna(subset=['critic'], inplace=True)"
   ]
  },
  {
   "cell_type": "code",
   "execution_count": null,
   "id": "39118c55",
   "metadata": {
    "hidden": true
   },
   "outputs": [],
   "source": [
    "#checking for the NAs in all the columns\n",
    "rt_reviews.isna().sum()"
   ]
  },
  {
   "cell_type": "markdown",
   "id": "d9c6b5ee",
   "metadata": {
    "hidden": true
   },
   "source": [
    "Changing the date column values to data time and separating it by month and year for better analysis. Then I will filter out, movies from the 2000 to now."
   ]
  },
  {
   "cell_type": "code",
   "execution_count": null,
   "id": "a3b0fe73",
   "metadata": {
    "hidden": true
   },
   "outputs": [],
   "source": [
    "#using date time function to change the date column\n",
    "rt_reviews['date']=pd.to_datetime(rt_reviews['date'])"
   ]
  },
  {
   "cell_type": "code",
   "execution_count": null,
   "id": "a821f933",
   "metadata": {
    "hidden": true
   },
   "outputs": [],
   "source": [
    "#separating month and year columns from the date column\n",
    "rt_reviews['month']=rt_reviews['date'].dt.month\n",
    "rt_reviews['year']=rt_reviews['date'].dt.year"
   ]
  },
  {
   "cell_type": "code",
   "execution_count": null,
   "id": "7de4af8e",
   "metadata": {
    "hidden": true
   },
   "outputs": [],
   "source": [
    "#filtering data frame to rows with information from the 2000's to now.\n",
    "rt_reviews=rt_reviews[(rt_reviews['year']>=2000)]"
   ]
  },
  {
   "cell_type": "code",
   "execution_count": null,
   "id": "475b5a89",
   "metadata": {
    "hidden": true
   },
   "outputs": [],
   "source": [
    "#Dropping reviews with no rating, they dont add value to the data file\n",
    "rt_reviews['rating']=rt_reviews.dropna(subset=['rating'], inplace=True )"
   ]
  },
  {
   "cell_type": "code",
   "execution_count": null,
   "id": "7b8eb755",
   "metadata": {
    "hidden": true
   },
   "outputs": [],
   "source": [
    "#checking the head of the dataframe 'rt_reviews'\n",
    "rt_reviews.head(5)"
   ]
  },
  {
   "cell_type": "markdown",
   "id": "c3ea3209",
   "metadata": {
    "heading_collapsed": true
   },
   "source": [
    "### Business/Revenue Related Data Files\n"
   ]
  },
  {
   "cell_type": "markdown",
   "id": "27779e9c",
   "metadata": {
    "hidden": true
   },
   "source": [
    "I will start the data cleaning process by checking the information on the Data File of \"The Numbers\" a website which tracks business information on movies."
   ]
  },
  {
   "cell_type": "code",
   "execution_count": null,
   "id": "b68dfe2b",
   "metadata": {
    "hidden": true,
    "scrolled": false
   },
   "outputs": [],
   "source": [
    "#Dataframe contains 5,782 rows of information and 6 columns.\n",
    "thenumbers.info()"
   ]
  },
  {
   "cell_type": "code",
   "execution_count": null,
   "id": "16722ad4",
   "metadata": {
    "hidden": true
   },
   "outputs": [],
   "source": [
    "#Dropping duplicates using the column 'movie'\n",
    "thenumbers=thenumbers.drop_duplicates(subset=['movie'])"
   ]
  },
  {
   "cell_type": "code",
   "execution_count": null,
   "id": "ee2c1d35",
   "metadata": {
    "hidden": true
   },
   "outputs": [],
   "source": [
    "#Dropping movies that have a domestic and worlwide gross revenue of $0\n",
    "thenumbers=thenumbers[thenumbers['domestic_gross'] != '$0']\n",
    "thenumbers=thenumbers[thenumbers['worldwide_gross'] != '$0']"
   ]
  },
  {
   "cell_type": "code",
   "execution_count": null,
   "id": "6d6d7714",
   "metadata": {
    "hidden": true
   },
   "outputs": [],
   "source": [
    "#changing the 'release_date' column to date time format\n",
    "thenumbers['release_date'] = pd.to_datetime(thenumbers['release_date'])"
   ]
  },
  {
   "cell_type": "code",
   "execution_count": null,
   "id": "a379d5b0",
   "metadata": {
    "hidden": true
   },
   "outputs": [],
   "source": [
    "#Creating new columns for year and month of the release of a movie\n",
    "thenumbers['release_month']=thenumbers['release_date'].dt.month\n",
    "thenumbers['release_year']=thenumbers['release_date'].dt.year"
   ]
  },
  {
   "cell_type": "code",
   "execution_count": null,
   "id": "c088e6c4",
   "metadata": {
    "hidden": true
   },
   "outputs": [],
   "source": [
    "#Filtering the data frame to include only movies from the 2000's to now\n",
    "thenumbers=thenumbers[(thenumbers['release_year'] >= 2000)]"
   ]
  },
  {
   "cell_type": "code",
   "execution_count": null,
   "id": "f61bb8a3",
   "metadata": {
    "hidden": true
   },
   "outputs": [],
   "source": [
    "#changing the columns from float to integer\n",
    "thenumbers['production_budget']=thenumbers['production_budget'].replace('[\\$,]', '', regex=True).astype(int)\n",
    "thenumbers['domestic_gross']=thenumbers['domestic_gross'].replace('[\\$,]', '', regex=True).astype(int)\n",
    "thenumbers['worldwide_gross']=thenumbers['worldwide_gross'].replace('[\\$,]', '', regex=True).astype(int)"
   ]
  },
  {
   "cell_type": "code",
   "execution_count": null,
   "id": "abd59384",
   "metadata": {
    "hidden": true
   },
   "outputs": [],
   "source": [
    "#Setting the display format for floating-point numbers to show 2 decimal places.\n",
    "pd.set_option('display.float_format', '{:.2f}'.format)"
   ]
  },
  {
   "cell_type": "code",
   "execution_count": null,
   "id": "d65ac5a2",
   "metadata": {
    "hidden": true,
    "scrolled": false
   },
   "outputs": [],
   "source": [
    "#checking for a clean dataframe\n",
    "thenumbers.isna().sum()"
   ]
  },
  {
   "cell_type": "code",
   "execution_count": null,
   "id": "6be1fcc4",
   "metadata": {
    "hidden": true
   },
   "outputs": [],
   "source": [
    "#checking the dataframe's head rows\n",
    "thenumbers.head(5)"
   ]
  },
  {
   "cell_type": "markdown",
   "id": "aafe9c45",
   "metadata": {
    "hidden": true
   },
   "source": [
    "Starting the data cleansing process for the data file from \"The Box Office Mojo\" Website which tracks box-office revenue."
   ]
  },
  {
   "cell_type": "code",
   "execution_count": null,
   "id": "c52fa689",
   "metadata": {
    "hidden": true
   },
   "outputs": [],
   "source": [
    "#getting information from the dataframe\n",
    "box_office.head()"
   ]
  },
  {
   "cell_type": "code",
   "execution_count": null,
   "id": "78f8c51c",
   "metadata": {
    "hidden": true
   },
   "outputs": [],
   "source": [
    "#Dropping duplicates from the dataframe\n",
    "box_office=box_office.drop_duplicates(subset=['title'])"
   ]
  },
  {
   "cell_type": "code",
   "execution_count": null,
   "id": "c59be70a",
   "metadata": {
    "hidden": true
   },
   "outputs": [],
   "source": [
    "#checking sum of NA values per column\n",
    "box_office.isna().sum()"
   ]
  },
  {
   "cell_type": "code",
   "execution_count": null,
   "id": "2cda85c2",
   "metadata": {
    "hidden": true
   },
   "outputs": [],
   "source": [
    "box_office.info()"
   ]
  },
  {
   "cell_type": "code",
   "execution_count": null,
   "id": "a4ead5f0",
   "metadata": {
    "hidden": true
   },
   "outputs": [],
   "source": [
    "#Dropping NA values from the dataframe if they are NA in the column\n",
    "box_office=box_office.dropna(subset=['studio'])\n",
    "box_office=box_office.dropna(subset=['domestic_gross'])"
   ]
  },
  {
   "cell_type": "code",
   "execution_count": null,
   "id": "b13b6b3d",
   "metadata": {
    "hidden": true,
    "scrolled": true
   },
   "outputs": [],
   "source": [
    "#Changing the value type to integer for better/easier analysis\n",
    "box_office['domestic_gross']=box_office['domestic_gross'].astype(int)"
   ]
  },
  {
   "cell_type": "code",
   "execution_count": null,
   "id": "68bfa9c2",
   "metadata": {
    "hidden": true
   },
   "outputs": [],
   "source": [
    "#Fill the NA values of foreign gross with 0 to not lose a great part of data\n",
    "box_office['foreign_gross']=box_office['foreign_gross'].fillna('0')"
   ]
  },
  {
   "cell_type": "code",
   "execution_count": null,
   "id": "fa16d5cc",
   "metadata": {
    "hidden": true
   },
   "outputs": [],
   "source": [
    "#Changing the foreign gross value type to integer\n",
    "box_office['foreign_gross'] = box_office['foreign_gross'].replace(',', '', regex=True)\n",
    "box_office['foreign_gross'] = box_office['foreign_gross'].str.split('.').str[0]  # Remove decimal places\n",
    "box_office['foreign_gross'] = box_office['foreign_gross'].astype(int)  # Convert to integers"
   ]
  },
  {
   "cell_type": "code",
   "execution_count": null,
   "id": "35ce6e28",
   "metadata": {
    "hidden": true
   },
   "outputs": [],
   "source": [
    "#checking one last time the sum of NA values per column\n",
    "box_office.isna().sum()"
   ]
  },
  {
   "cell_type": "markdown",
   "id": "81775e72",
   "metadata": {},
   "source": [
    "# Exploratory Analysis"
   ]
  },
  {
   "cell_type": "markdown",
   "id": "4315f741",
   "metadata": {
    "heading_collapsed": true
   },
   "source": [
    "### Recommendation 1: Movie Genres with the highest number of votes and rating.\n",
    "Based on a IMDB database, my analysis has found that the movies with the highest votes and ratings are: Action, Adventure, Sci-Fi, Animation, Comedy, Crime and Drama."
   ]
  },
  {
   "cell_type": "markdown",
   "id": "804fb7e7",
   "metadata": {
    "hidden": true
   },
   "source": [
    "df1 is the imdb sql dataframe\n",
    "rt_info\n",
    "rt_reviews\n",
    "the_numbers\n",
    "box_office"
   ]
  },
  {
   "cell_type": "code",
   "execution_count": null,
   "id": "715e7173",
   "metadata": {
    "hidden": true
   },
   "outputs": [],
   "source": [
    "#starting with df1 dataframe\n",
    "df1.head()"
   ]
  },
  {
   "cell_type": "markdown",
   "id": "ae2311d0",
   "metadata": {
    "hidden": true
   },
   "source": [
    "Filtering the average rating of movies to be higher than 5 over 10, and the number of votes a movie has to have its over 10,000."
   ]
  },
  {
   "cell_type": "code",
   "execution_count": null,
   "id": "cb14a6f4",
   "metadata": {
    "hidden": true,
    "scrolled": true
   },
   "outputs": [],
   "source": [
    "#updating the dataframe to the filters required\n",
    "df1=df1[(df1['avg_rating'] > 4 ) & (df1['numvotes'] > 10000)]"
   ]
  },
  {
   "cell_type": "markdown",
   "id": "dd6ac73e",
   "metadata": {
    "hidden": true
   },
   "source": [
    "Creating a variable that will group by genres the average rating of the movies and show its statistical measures"
   ]
  },
  {
   "cell_type": "code",
   "execution_count": null,
   "id": "764ecc9b",
   "metadata": {
    "hidden": true,
    "scrolled": false
   },
   "outputs": [],
   "source": [
    "#Using groupby function with aggregation of stat measures.\n",
    "rating_by_genre=df1[['genres', 'avg_rating']].groupby(['genres']).agg(['count', 'median', 'mean'])\n",
    "rating_by_genre = rating_by_genre.sort_values(by=('avg_rating', 'count'), ascending=False) #Sort by rating mean in descending order\n",
    "rating_by_genre"
   ]
  },
  {
   "cell_type": "code",
   "execution_count": null,
   "id": "9faec421",
   "metadata": {
    "hidden": true,
    "scrolled": false
   },
   "outputs": [],
   "source": [
    "df1['avg_rating'].describe()"
   ]
  },
  {
   "cell_type": "markdown",
   "id": "3b62c2aa",
   "metadata": {
    "hidden": true
   },
   "source": [
    "The Mean of the Average Rating is 6.5 points (horizontal dashed red line shown on graph) and the average number of movies in a genre category that I will use will have to have a count of 39 or over to be counted as significant for my analysis; given that those are the x-values above the red line (as shown in the graph below)."
   ]
  },
  {
   "cell_type": "code",
   "execution_count": null,
   "id": "c9979fd6",
   "metadata": {
    "hidden": true
   },
   "outputs": [],
   "source": [
    "# Plot the line chart\n",
    "fig, ax = plt.subplots(figsize=(17, 7))\n",
    "rating_by_genre['avg_rating']['mean'].plot(kind='line', marker='o', ax=ax)\n",
    "\n",
    "# Add labels to the markers indicating the count of values\n",
    "for i, genre in enumerate(rating_by_genre.index):\n",
    "    count = rating_by_genre['avg_rating']['count'][i]\n",
    "    ax.annotate(str(count), (i, rating_by_genre['avg_rating']['mean'][i]), xytext=(0, 10),\n",
    "                textcoords='offset points', ha='center', fontsize=8)\n",
    "\n",
    "    # Highlight markers with y value at or over 6.5\n",
    "    if rating_by_genre['avg_rating']['mean'][i] >= 6.5:\n",
    "        ax.plot(i, rating_by_genre['avg_rating']['mean'][i], marker='o', color='green')\n",
    "\n",
    "# Add a horizontal line at y=6.5\n",
    "ax.axhline(y=6.5, color='red', linestyle='--', label='Average Rating at y=6.5')\n",
    "\n",
    "# Set the labels and title\n",
    "ax.set_title(\"Movie Genre vs Rating\")\n",
    "ax.set_xlabel(\"Movie Genres\")\n",
    "ax.set_ylabel(\"Average Rating\")\n",
    "\n",
    "# Add a legend\n",
    "ax.legend(['Number of Movies per Genre', 'Count of Movies per Genre', 'Average Rating at y=6.5'])\n",
    "\n",
    "# Display the plot\n",
    "plt.show()"
   ]
  },
  {
   "cell_type": "markdown",
   "id": "d622e3d5",
   "metadata": {
    "hidden": true
   },
   "source": [
    "The graph shows that the most significant Movie Genres with the highest number of Votes as well as having the highest ratings are Comedy, Drama, Romance, Action, Adventure and Sci-Fi."
   ]
  },
  {
   "cell_type": "markdown",
   "id": "ff7d0167",
   "metadata": {
    "hidden": true
   },
   "source": [
    "I will use the average number of votes to make predictions based on it."
   ]
  },
  {
   "cell_type": "code",
   "execution_count": null,
   "id": "a94a174e",
   "metadata": {
    "hidden": true,
    "scrolled": false
   },
   "outputs": [],
   "source": [
    "mean_value = df1['numvotes'].mean()\n",
    "print(mean_value)"
   ]
  },
  {
   "cell_type": "markdown",
   "id": "2f974f22",
   "metadata": {
    "hidden": true
   },
   "source": [
    "Looking for movies with a mean of over 95,000 number of votes.\\\n",
    "I will be grouping the genres by the count, median and mean of the number of votes those movies got to get a viualization from this statistical summary."
   ]
  },
  {
   "cell_type": "code",
   "execution_count": null,
   "id": "0faf0c78",
   "metadata": {
    "hidden": true,
    "scrolled": true
   },
   "outputs": [],
   "source": [
    "#grouping the genres and numvotes columns as votes by genre\n",
    "votes_by_genre=df1[['genres', 'numvotes']].groupby(['genres']).agg(['count', 'median', 'mean'])\n",
    "votes_by_genre = votes_by_genre.sort_values(by=('numvotes', 'mean'), ascending=False) #descencing order needed"
   ]
  },
  {
   "cell_type": "code",
   "execution_count": null,
   "id": "29457b69",
   "metadata": {
    "hidden": true,
    "scrolled": false
   },
   "outputs": [],
   "source": [
    "# Create the line plot\n",
    "votes_by_genre_plot = votes_by_genre['numvotes']['mean'].plot(kind='line', marker='o', figsize=(18, 6))\n",
    "\n",
    "# Set the title, xlabel, and ylabel\n",
    "votes_by_genre_plot.set_title(\"Most watched Movie Genres based on IMDB Number of Votes\")\n",
    "votes_by_genre_plot.set_xlabel(\"Movie Genres\")\n",
    "votes_by_genre_plot.set_ylabel(\"Number of Votes Count\")\n",
    "\n",
    "# Add the horizontal line\n",
    "votes_by_genre_plot.axhline(y=95000, color='red', linestyle='--')\n",
    "\n",
    "# Highlight the marker if y value is over 130,000 and label the markers\n",
    "for x, y in zip(votes_by_genre_plot.get_lines()[0].get_xdata(), votes_by_genre_plot.get_lines()[0].get_ydata()):\n",
    "    if y > 95000:\n",
    "        votes_by_genre_plot.plot(x, y, marker='o', markersize=10, color='red')\n",
    "        votes_by_genre_plot.annotate(str(round(y)), (x, y), xytext=(0, 10), textcoords='offset points', ha='center')\n",
    "\n",
    "plt.show()"
   ]
  },
  {
   "cell_type": "markdown",
   "id": "0784ae3e",
   "metadata": {
    "hidden": true
   },
   "source": [
    "The most watched movies bases on the number of votes these movies got are: Action, Adventure, Sci-Fi, Animation, Comedy, Crime and Drama.\\\n",
    "This result correlates with the first finding that analyzed the rating of movies based on movie genre."
   ]
  },
  {
   "cell_type": "markdown",
   "id": "841aeebf",
   "metadata": {
    "heading_collapsed": true
   },
   "source": [
    "### Recommendation 2:  Best Months of the Year to release Movies\n",
    "Based on box-office tickets information from the Rotten Tomatoes database, my analysis has found the best months to release movies during hot or cold seasons."
   ]
  },
  {
   "cell_type": "code",
   "execution_count": null,
   "id": "eb20692d",
   "metadata": {
    "hidden": true,
    "scrolled": true
   },
   "outputs": [],
   "source": [
    "#getting a look into the dataframe\n",
    "rt_info.head()"
   ]
  },
  {
   "cell_type": "code",
   "execution_count": null,
   "id": "a5af88f7",
   "metadata": {
    "hidden": true,
    "scrolled": true
   },
   "outputs": [],
   "source": [
    "#starting with 310 rows of data\n",
    "rt_info.info()"
   ]
  },
  {
   "cell_type": "markdown",
   "id": "667758c2",
   "metadata": {
    "hidden": true
   },
   "source": [
    "Checking the measures of central tendencies of the \"box_office\" column to make predictions on how to move forward with the analysis of these data files.\n"
   ]
  },
  {
   "cell_type": "code",
   "execution_count": null,
   "id": "08130bed",
   "metadata": {
    "hidden": true,
    "scrolled": false
   },
   "outputs": [],
   "source": [
    "#getting the average return on box_office values\n",
    "rt_info['box_office'].describe()"
   ]
  },
  {
   "cell_type": "markdown",
   "id": "3b0815da",
   "metadata": {
    "hidden": true
   },
   "source": [
    "When dealing with a dataset that has a large standard deviation, the choice of mean can be influenced by the presence of outliers or skewed data. As seen on the box plot below. \\\n",
    "Box Plot of the distribution of values in the column \"box office\". Highlighted in read are the outliers."
   ]
  },
  {
   "cell_type": "code",
   "execution_count": null,
   "id": "cf78c3c3",
   "metadata": {
    "hidden": true,
    "scrolled": true
   },
   "outputs": [],
   "source": [
    "# Box plot with highlighted outliers\n",
    "plt.boxplot(rt_info['box_office'], flierprops=dict(marker='o', markerfacecolor='red', markersize=8))\n",
    "plt.ylabel('Box Office')\n",
    "plt.title('Box Plot of Box Office')\n",
    "plt.show()"
   ]
  },
  {
   "cell_type": "markdown",
   "id": "456b264e",
   "metadata": {
    "hidden": true
   },
   "source": [
    "Checking for the distribution of the data, asummning from the box plot that is not normally distributed.\\\n",
    "\n",
    "From the graphs below, the distribution is skewed to the right. This means that the majority of the data is concentrated towards the lower values, with a long tail extending towards the higher values.\n",
    "This type of distribution is a right-skewed distribution. \n",
    "\n",
    "I will confirm if the distribution is indeed skewed using the skew() function in pandas."
   ]
  },
  {
   "cell_type": "code",
   "execution_count": null,
   "id": "23b9c257",
   "metadata": {
    "hidden": true
   },
   "outputs": [],
   "source": [
    "#creating a figure with two subplots\n",
    "fig, axes = plt.subplots(1, 2, figsize=(10, 5))\n",
    "\n",
    "#Plotting the KDE plot on the first subplot\n",
    "sns.kdeplot(rt_info['box_office'], ax=axes[0])\n",
    "axes[0].set_xlabel('Box Office')\n",
    "axes[0].set_ylabel('Density')\n",
    "axes[0].set_title('Kernel Density Estimation Plot of Box Office')\n",
    "\n",
    "#Plotting the histogram on the second subplot\n",
    "axes[1].hist(rt_info['box_office'], bins=10)\n",
    "axes[1].set_xlabel('Box Office')\n",
    "axes[1].set_ylabel('Frequency')\n",
    "axes[1].set_title('Histogram of Box Office')\n",
    "\n",
    "#adjusting the spacing between subplots\n",
    "plt.tight_layout()\n",
    "\n",
    "#show the figure\n",
    "plt.show()"
   ]
  },
  {
   "cell_type": "code",
   "execution_count": null,
   "id": "6e77b4a1",
   "metadata": {
    "hidden": true
   },
   "outputs": [],
   "source": [
    "#checking for skewness with skew function\n",
    "skewness = rt_info['box_office'].skew()\n",
    "\n",
    "if skewness > 0:\n",
    "    print(\"The distribution is positively skewed.\")\n",
    "elif skewness < 0:\n",
    "    print(\"The distribution is negatively skewed.\")\n",
    "else:\n",
    "    print(\"The distribution is approximately symmetric.\")"
   ]
  },
  {
   "cell_type": "markdown",
   "id": "24348867",
   "metadata": {
    "hidden": true
   },
   "source": [
    "In this case is recommended to use the median as a measure of central tendency instead of the mean.\n",
    "Given that the median (50th percentile) for the \"box_office\" column is 15,671,532.50, it may be a more appropriate measure of central tendency to use in this case."
   ]
  },
  {
   "cell_type": "code",
   "execution_count": null,
   "id": "9a3ca965",
   "metadata": {
    "hidden": true,
    "scrolled": false
   },
   "outputs": [],
   "source": [
    "#filtering the dataframe to rows where the bpx_office return/value is over 15,671,533 (median)\n",
    "filtered_rt_info=rt_info[rt_info['box_office']>15671533]\n",
    "filtered_rt_info.head()"
   ]
  },
  {
   "cell_type": "code",
   "execution_count": null,
   "id": "9732b0b8",
   "metadata": {
    "hidden": true
   },
   "outputs": [],
   "source": [
    "#Using groupby function with aggregation of stat measures.\n",
    "grouped_rtinfo=filtered_rt_info[['theater_month', 'box_office']].groupby(['theater_month']).agg(['count', 'median', 'mean'])\n",
    "grouped_rtinfo = grouped_rtinfo.sort_values(by=('box_office', 'mean'), ascending=False) #descencing order needed\n",
    "grouped_rtinfo"
   ]
  },
  {
   "cell_type": "code",
   "execution_count": null,
   "id": "ad267c4c",
   "metadata": {
    "hidden": true
   },
   "outputs": [],
   "source": [
    "#getting the mean of box office column\n",
    "filtered_rt_info['box_office'].mean()"
   ]
  },
  {
   "cell_type": "code",
   "execution_count": null,
   "id": "6a497d42",
   "metadata": {
    "hidden": true
   },
   "outputs": [],
   "source": [
    "# Create a copy of the DataFrame\n",
    "filtered_rt_info = filtered_rt_info.copy()\n",
    "\n",
    "# Convert theater_month column to datetime format\n",
    "filtered_rt_info.loc[:, 'theater_month'] = pd.to_datetime(filtered_rt_info['theater_month'], format='%m')\n",
    "\n",
    "# Group by month and calculate the average box office\n",
    "#1.  box_office_by_month = filtered_rt_info.groupby(filtered_rt_info['theater_month'].dt.strftime('%B'))['box_office'].mean()\n",
    "\n",
    "# Plot the bar graph\n",
    "#2.  box_office_by_month.plot(kind='bar')\n",
    "# Reindex the series to have months in the correct order\n",
    "box_office_by_month = box_office_by_month.reindex(['January', 'February', 'March', 'April', 'May', 'June', 'July', 'August', 'September', 'October', 'November', 'December'])\n",
    "\n",
    "# Plot the bar graph\n",
    "box_office_by_month.plot(kind='bar')\n",
    "\n",
    "plt.xlabel('Month')\n",
    "plt.ylabel('Average Box Office')\n",
    "plt.title('Average Box Office by Month')\n",
    "\n",
    "# Format y-axis labels as millions\n",
    "plt.ticklabel_format(axis='y', style='plain', useOffset=False, scilimits=(6, 6))\n",
    "\n",
    "# Add a horizontal line at y=75778279\n",
    "plt.axhline(y=75778279, color='red', linestyle='--', label='Threshold')\n",
    "\n",
    "plt.legend()"
   ]
  },
  {
   "cell_type": "markdown",
   "id": "7cd6e745",
   "metadata": {
    "hidden": true
   },
   "source": [
    "According to the data analysis of the data file, the best months to release films are May through July for the warm season and November-December during the cold season."
   ]
  },
  {
   "cell_type": "markdown",
   "id": "a8e7b69d",
   "metadata": {},
   "source": [
    "### Recommendation 3: Movies as a Financial Success\n",
    "The success of a movie release is by showing if the Gross Revenue is equal to the double of the movie's budget.\\\n",
    "Using the 'thenumbers' data file, merged with the IMDB and '' I will be making a recommendation."
   ]
  },
  {
   "cell_type": "markdown",
   "id": "86290fee",
   "metadata": {},
   "source": [
    "I will be using 'the numbers' data file to analyze the Movies with highest Profit."
   ]
  },
  {
   "cell_type": "code",
   "execution_count": null,
   "id": "ffb9292f",
   "metadata": {
    "scrolled": true
   },
   "outputs": [],
   "source": [
    "#Getting the information of this dataframe\n",
    "thenumbers.info() #3,839 rows"
   ]
  },
  {
   "cell_type": "code",
   "execution_count": null,
   "id": "d50bb933",
   "metadata": {},
   "outputs": [],
   "source": [
    "#Create a new column called 'total_gross' by adding the 'domestic_gross' and 'world_gross' columns\n",
    "#thenumbers['total_gross'] = thenumbers['domestic_gross'] + thenumbers['worldwide_gross']"
   ]
  },
  {
   "cell_type": "code",
   "execution_count": null,
   "id": "495ae417",
   "metadata": {
    "scrolled": true
   },
   "outputs": [],
   "source": [
    "# Filter the DataFrame based on the condition of only financially successful movies\n",
    "filtered_thenumbers = thenumbers[thenumbers['worldwide_gross'] >= 2 * thenumbers['production_budget']]\n",
    "filtered_thenumbers #1,843 rows of data"
   ]
  },
  {
   "cell_type": "code",
   "execution_count": null,
   "id": "76d4cdec",
   "metadata": {
    "scrolled": true
   },
   "outputs": [],
   "source": [
    "#checking for stats measurements of the worlwide gross sale column\n",
    "filtered_thenumbers['worldwide_gross'].describe()"
   ]
  },
  {
   "cell_type": "markdown",
   "id": "540c06c4",
   "metadata": {},
   "source": [
    "When dealing with a dataset that has a large standard deviation, the choice of mean can be influenced by the presence of outliers or skewed data. As seen on the box plot below. \\\n",
    "Box Plot of the distribution of values in the column \"worldwide_gross\". Highlighted in read are the outliers."
   ]
  },
  {
   "cell_type": "code",
   "execution_count": null,
   "id": "9ec8e700",
   "metadata": {
    "scrolled": true
   },
   "outputs": [],
   "source": [
    "# Box plot with highlighted outliers\n",
    "plt.boxplot(filtered_thenumbers['worldwide_gross'], flierprops=dict(marker='o', markerfacecolor='red', markersize=8))\n",
    "plt.ylabel('Box Office')\n",
    "plt.title('Box Plot of Box Office')\n",
    "plt.show()"
   ]
  },
  {
   "cell_type": "markdown",
   "id": "fb0e073a",
   "metadata": {},
   "source": [
    "Checking for the distribution of the data, asummning from the box plot that is not normally distributed. \n",
    "\n",
    "From the graphs below, the distribution is skewed to the right. This means that the majority of the data is concentrated towards the lower values, with a long tail extending towards the higher values.\n",
    "This type of distribution is a right-skewed distribution. \n",
    "\n",
    "I will confirm if the distribution is indeed skewed using the skew() function in pandas."
   ]
  },
  {
   "cell_type": "code",
   "execution_count": null,
   "id": "0b323829",
   "metadata": {
    "scrolled": true
   },
   "outputs": [],
   "source": [
    "# Generate a histogram\n",
    "# Generate a histogram\n",
    "filtered_thenumbers['worldwide_gross'].plot(kind='hist', bins=20)\n",
    "plt.title('Distribution of Total Gross')\n",
    "plt.xlabel('Total Gross')\n",
    "plt.ylabel('Frequency')\n",
    "plt.show()"
   ]
  },
  {
   "cell_type": "code",
   "execution_count": null,
   "id": "f990aa14",
   "metadata": {},
   "outputs": [],
   "source": [
    "#checking for skewness with skew function\n",
    "skewness = filtered_thenumbers['worldwide_gross'].skew()\n",
    "\n",
    "if skewness > 0:\n",
    "    print(\"The distribution is positively skewed.\")\n",
    "elif skewness < 0:\n",
    "    print(\"The distribution is negatively skewed.\")\n",
    "else:\n",
    "    print(\"The distribution is approximately symmetric.\")"
   ]
  },
  {
   "cell_type": "code",
   "execution_count": null,
   "id": "e6315887",
   "metadata": {
    "scrolled": true
   },
   "outputs": [],
   "source": [
    "#using describe function to get the median of worldwide gross\n",
    "filtered_thenumbers['worldwide_gross'].describe()"
   ]
  },
  {
   "cell_type": "code",
   "execution_count": null,
   "id": "4bd73b98",
   "metadata": {},
   "outputs": [],
   "source": [
    "filtered_thenumbers.head(3)"
   ]
  },
  {
   "cell_type": "markdown",
   "id": "d5ab96a1",
   "metadata": {},
   "source": [
    "Right-skewed data shown in the graph. The median will be used to evaluate the Most Popular movies. Median is 102,404,019.\\\n",
    "Only the most profitable movies will be analyzed. "
   ]
  },
  {
   "cell_type": "code",
   "execution_count": null,
   "id": "6dc25142",
   "metadata": {},
   "outputs": [],
   "source": [
    "#filtered_thenumbers[filtered_thenumbers['worldwide_gross']>=102404019]['release_month'].value_counts() #1,175 rows"
   ]
  },
  {
   "cell_type": "code",
   "execution_count": null,
   "id": "e1048b6f",
   "metadata": {
    "scrolled": true
   },
   "outputs": [],
   "source": [
    "#filtered_thenumbers[filtered_thenumbers['movie']=='']"
   ]
  },
  {
   "cell_type": "code",
   "execution_count": null,
   "id": "96306ec2",
   "metadata": {},
   "outputs": [],
   "source": [
    "merged_df = pd.merge(filtered_thenumbers, df1, left_on='movie', right_on='title')\n",
    "merged_df.head(3)"
   ]
  },
  {
   "cell_type": "code",
   "execution_count": null,
   "id": "e1fa506b",
   "metadata": {},
   "outputs": [],
   "source": [
    "merged_df.info() # 306 rows on 1st merge"
   ]
  },
  {
   "cell_type": "code",
   "execution_count": null,
   "id": "5cefc44d",
   "metadata": {},
   "outputs": [],
   "source": [
    "#selected_df = merged_df.loc[:, ['movie', 'release_month', 'release_year', 'total_gross', 'genres', 'avg_rating', 'numvotes', 'mov_minutes']]\n",
    "merged_df= merged_df.loc[:, ['movie', 'release_month', 'release_year', 'worldwide_gross', 'genres', 'avg_rating', 'numvotes', 'mov_minutes']]"
   ]
  },
  {
   "cell_type": "code",
   "execution_count": null,
   "id": "386f2224",
   "metadata": {
    "scrolled": false
   },
   "outputs": [],
   "source": [
    "merged_df.head(3)"
   ]
  },
  {
   "cell_type": "code",
   "execution_count": null,
   "id": "f7ec6033",
   "metadata": {
    "scrolled": true
   },
   "outputs": [],
   "source": [
    "#Will merge the box_office datafile to increase the data rows for better analysis\n",
    "box_office.head()"
   ]
  },
  {
   "cell_type": "code",
   "execution_count": null,
   "id": "d43a48dc",
   "metadata": {},
   "outputs": [],
   "source": [
    "#Dropping unnecesary info from the movie titles so merge can go on smoothly.\n",
    "box_office['title'] = box_office['title'].str.replace(r'\\(.*\\)', '')"
   ]
  },
  {
   "cell_type": "code",
   "execution_count": null,
   "id": "18efb203",
   "metadata": {},
   "outputs": [],
   "source": [
    "#creating a worldwide_gross column that adds the domestic and foreign gross profits of a movie.\n",
    "box_office['worlwide_gross']=box_office['domestic_gross'] + box_office['foreign_gross']\n"
   ]
  },
  {
   "cell_type": "code",
   "execution_count": null,
   "id": "1bc34cbd",
   "metadata": {},
   "outputs": [],
   "source": [
    "#changing title to movie\n",
    "box_office = box_office.rename(columns={'title': 'movie'})"
   ]
  },
  {
   "cell_type": "code",
   "execution_count": null,
   "id": "a7304ac7",
   "metadata": {
    "scrolled": false
   },
   "outputs": [],
   "source": [
    "box_office.info()"
   ]
  },
  {
   "cell_type": "code",
   "execution_count": null,
   "id": "d30dd6d7",
   "metadata": {},
   "outputs": [],
   "source": [
    "#MERGE OR DONT MERGE?\n",
    "merged_df = pd.merge(merged_df, box_office, on='movie', how='outer')"
   ]
  },
  {
   "cell_type": "code",
   "execution_count": null,
   "id": "e109a052",
   "metadata": {
    "scrolled": false
   },
   "outputs": [],
   "source": [
    "merged_df.head(2)"
   ]
  },
  {
   "cell_type": "code",
   "execution_count": null,
   "id": "d3b2c870",
   "metadata": {
    "scrolled": true
   },
   "outputs": [],
   "source": [
    "merged_df.info()"
   ]
  },
  {
   "cell_type": "code",
   "execution_count": null,
   "id": "f85dbcd3",
   "metadata": {},
   "outputs": [],
   "source": [
    "merged_df=merged_df.drop_duplicates(subset=['movie'])"
   ]
  },
  {
   "cell_type": "code",
   "execution_count": null,
   "id": "42631631",
   "metadata": {},
   "outputs": [],
   "source": [
    "merged_df.info()"
   ]
  },
  {
   "cell_type": "code",
   "execution_count": null,
   "id": "90e483d2",
   "metadata": {},
   "outputs": [],
   "source": [
    "plt.figure(figsize=(12, 6))\n",
    "sns.barplot(x='genres', y='total_gross', data=selected_df)\n",
    "plt.xticks(rotation=90)\n",
    "plt.show()\n",
    "\n",
    "\n",
    "#Scatter Plot:\n",
    "#python\n",
    "plt.figure(figsize=(10, 6))\n",
    "sns.scatterplot(x='mov_minutes', y='avg_rating', data=selected_df)\n",
    "plt.show()\n"
   ]
  },
  {
   "cell_type": "markdown",
   "id": "7823d6e8",
   "metadata": {
    "heading_collapsed": true
   },
   "source": [
    "# Conclusions"
   ]
  },
  {
   "cell_type": "markdown",
   "id": "b141c136",
   "metadata": {
    "hidden": true
   },
   "source": []
  },
  {
   "cell_type": "markdown",
   "id": "fe18be28",
   "metadata": {
    "heading_collapsed": true
   },
   "source": [
    "# Limitations"
   ]
  },
  {
   "cell_type": "markdown",
   "id": "b0961a6b",
   "metadata": {
    "hidden": true
   },
   "source": []
  },
  {
   "cell_type": "markdown",
   "id": "83a2d83b",
   "metadata": {
    "heading_collapsed": true
   },
   "source": [
    "# Recommendations"
   ]
  },
  {
   "cell_type": "code",
   "execution_count": null,
   "id": "a31d6f96",
   "metadata": {
    "hidden": true
   },
   "outputs": [],
   "source": []
  },
  {
   "cell_type": "markdown",
   "id": "c4bd6b88",
   "metadata": {
    "heading_collapsed": true
   },
   "source": [
    "# Next Steps"
   ]
  },
  {
   "cell_type": "code",
   "execution_count": null,
   "id": "625c4426",
   "metadata": {
    "hidden": true
   },
   "outputs": [],
   "source": []
  }
 ],
 "metadata": {
  "kernelspec": {
   "display_name": "Python (learn-env)",
   "language": "python",
   "name": "learn-env"
  },
  "language_info": {
   "codemirror_mode": {
    "name": "ipython",
    "version": 3
   },
   "file_extension": ".py",
   "mimetype": "text/x-python",
   "name": "python",
   "nbconvert_exporter": "python",
   "pygments_lexer": "ipython3",
   "version": "3.8.5"
  }
 },
 "nbformat": 4,
 "nbformat_minor": 5
}
