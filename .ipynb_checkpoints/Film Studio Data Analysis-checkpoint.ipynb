{
 "cells": [
  {
   "cell_type": "markdown",
   "id": "73bc0c4e",
   "metadata": {},
   "source": [
    "# Film Studio Data Analysis"
   ]
  },
  {
   "cell_type": "markdown",
   "id": "8421af30",
   "metadata": {},
   "source": [
    "**Author** Adriana Ramirez Franco.\\\n",
    "**Email:** aramirezfr20@gmail.com"
   ]
  },
  {
   "cell_type": "markdown",
   "id": "38a1d209",
   "metadata": {},
   "source": [
    "# Business Understanding"
   ]
  },
  {
   "cell_type": "markdown",
   "id": "3862e50b",
   "metadata": {},
   "source": [
    "Our company is strategically venturing into the realm of original video content creation by establishing a movie studio, recognizing the trend set by large corporations. To ensure the success of this endeavor, I am undertaking a rigorous data analysis to identify the most appealing genres for our target audience, drawing insights from the preferences of viewers. The objective is to provide actionable recommendations to the studio head, enabling informed decisions regarding the types of films to produce for optimal audience engagement and commercial success. Through this data-driven approach, I aim to position our studio as a competitive player in the dynamic landscape of digital entertainment."
   ]
  },
  {
   "cell_type": "markdown",
   "id": "da47a20f",
   "metadata": {},
   "source": [
    "# Data Understanding"
   ]
  },
  {
   "cell_type": "markdown",
   "id": "a627b51e",
   "metadata": {},
   "source": [
    "For this comprehensive data analysis, I have meticulously utilized data files from five esteemed sources: IMDB, Rotten Tomatoes, The Numbers, The Movie DB, and Box Office Mojo. Renowned for their credibility and status as leading authorities in the film industry, these sources provide reliable and comprehensive data crucial for our analysis. Our objective is to get into the current trends in box office performance and gain actionable insights to inform decision-making regarding the types of movies to pursue."
   ]
  },
  {
   "cell_type": "markdown",
   "id": "241b783e",
   "metadata": {
    "heading_collapsed": true
   },
   "source": [
    "# Exploratory Analysis"
   ]
  },
  {
   "cell_type": "markdown",
   "id": "db71c2e5",
   "metadata": {
    "heading_collapsed": true,
    "hidden": true
   },
   "source": [
    "## 1. Data Preparation\n",
    "Loading data files to Notebook."
   ]
  },
  {
   "cell_type": "code",
   "execution_count": 113,
   "id": "a6dc81f5",
   "metadata": {
    "hidden": true
   },
   "outputs": [],
   "source": [
    "#Importing necessary libraries for the beginning of the data analysis\n",
    "import pandas as pd\n",
    "import numpy as np\n",
    "import sqlite3\n",
    "import matplotlib.pyplot as plt"
   ]
  },
  {
   "cell_type": "markdown",
   "id": "6c7ee1d6",
   "metadata": {
    "hidden": true
   },
   "source": [
    "Loading a SQL database file by IMDB:"
   ]
  },
  {
   "cell_type": "code",
   "execution_count": 2,
   "id": "c53104c8",
   "metadata": {
    "hidden": true
   },
   "outputs": [
    {
     "data": {
      "text/html": [
       "<div>\n",
       "<style scoped>\n",
       "    .dataframe tbody tr th:only-of-type {\n",
       "        vertical-align: middle;\n",
       "    }\n",
       "\n",
       "    .dataframe tbody tr th {\n",
       "        vertical-align: top;\n",
       "    }\n",
       "\n",
       "    .dataframe thead th {\n",
       "        text-align: right;\n",
       "    }\n",
       "</style>\n",
       "<table border=\"1\" class=\"dataframe\">\n",
       "  <thead>\n",
       "    <tr style=\"text-align: right;\">\n",
       "      <th></th>\n",
       "      <th>name</th>\n",
       "    </tr>\n",
       "  </thead>\n",
       "  <tbody>\n",
       "    <tr>\n",
       "      <th>0</th>\n",
       "      <td>movie_basics</td>\n",
       "    </tr>\n",
       "    <tr>\n",
       "      <th>1</th>\n",
       "      <td>directors</td>\n",
       "    </tr>\n",
       "    <tr>\n",
       "      <th>2</th>\n",
       "      <td>known_for</td>\n",
       "    </tr>\n",
       "    <tr>\n",
       "      <th>3</th>\n",
       "      <td>movie_akas</td>\n",
       "    </tr>\n",
       "    <tr>\n",
       "      <th>4</th>\n",
       "      <td>movie_ratings</td>\n",
       "    </tr>\n",
       "    <tr>\n",
       "      <th>5</th>\n",
       "      <td>persons</td>\n",
       "    </tr>\n",
       "    <tr>\n",
       "      <th>6</th>\n",
       "      <td>principals</td>\n",
       "    </tr>\n",
       "    <tr>\n",
       "      <th>7</th>\n",
       "      <td>writers</td>\n",
       "    </tr>\n",
       "  </tbody>\n",
       "</table>\n",
       "</div>"
      ],
      "text/plain": [
       "            name\n",
       "0   movie_basics\n",
       "1      directors\n",
       "2      known_for\n",
       "3     movie_akas\n",
       "4  movie_ratings\n",
       "5        persons\n",
       "6     principals\n",
       "7        writers"
      ]
     },
     "execution_count": 2,
     "metadata": {},
     "output_type": "execute_result"
    }
   ],
   "source": [
    "#Creating a connection with the SQL data file\n",
    "connection = sqlite3.connect('im.db')\n",
    "sql_query = \"\"\"SELECT name FROM sqlite_master  \n",
    "  WHERE type='table';\"\"\"\n",
    "cursor = connection.cursor()\n",
    "pd.read_sql(sql_query, connection) #reading the sql data file with pandas function\n",
    "#the names of the different tables in the dataframe will be shown below"
   ]
  },
  {
   "cell_type": "markdown",
   "id": "de7fa936",
   "metadata": {
    "hidden": true
   },
   "source": [
    "Loading the CSV files:"
   ]
  },
  {
   "cell_type": "code",
   "execution_count": 4,
   "id": "b5fc91f4",
   "metadata": {
    "hidden": true,
    "scrolled": true
   },
   "outputs": [],
   "source": [
    "#Using panda's read_csv to open different data files needed for the analysis\n",
    "box_office= pd.read_csv('bom.movie_gross.csv.gz')\n",
    "thenumbers=pd.read_csv('tn.movie_budgets.csv.gz')\n",
    "moviedb=pd.read_csv('tmdb.movies.csv.gz')\n",
    "rt_info= pd.read_csv('rt.movie_info.tsv.gz', compression='gzip', delimiter='\\t')\n",
    "rt_reviews=pd.read_csv('rt.reviews.tsv.gz', compression='gzip', delimiter='\\t', encoding='latin1')"
   ]
  },
  {
   "cell_type": "markdown",
   "id": "6f941c94",
   "metadata": {
    "hidden": true
   },
   "source": [
    "Now that the data is loaded into this notebook, we can proceed with the data cleaning process for each data file. "
   ]
  },
  {
   "cell_type": "markdown",
   "id": "e06dce20",
   "metadata": {
    "heading_collapsed": true,
    "hidden": true
   },
   "source": [
    "## 2. Data Cleaning\n",
    "Cleaning the data files that will be used for this analysis."
   ]
  },
  {
   "cell_type": "markdown",
   "id": "37c60dbf",
   "metadata": {
    "hidden": true
   },
   "source": [
    "I will begin the data cleaning process by organizing the 6 data files into 3 separate sections. For a more detailed insight, you can expand the dropdown button to reveal the specific lines of code used. Each line of code provides clear details about the operation it performs."
   ]
  },
  {
   "cell_type": "markdown",
   "id": "e9d564f0",
   "metadata": {
    "heading_collapsed": true,
    "hidden": true
   },
   "source": [
    "### SQL IMDB Data File\n",
    "Commencing with the exploration of the SQL data file. \\\n",
    "I proceed by selecting the ratings of movies in the US, filtering for those with over 300 votes to ensure significance, and narrowing down to movies relevant within the past 24 years. Subsequently, a new Pandas dataframe is instantiated, incorporating the pertinent data for subsequent analysis."
   ]
  },
  {
   "cell_type": "code",
   "execution_count": 5,
   "id": "2de77cc4",
   "metadata": {
    "hidden": true
   },
   "outputs": [],
   "source": [
    "#Selecting relevant columns from the different tables in the sql data file\n",
    "query=\"\"\" \n",
    "SELECT r.movie_id, b.primary_title AS title , b.genres, r.averagerating AS avg_rating, \n",
    "    r.numvotes, a.region, primary_name as director, b.start_year, b.runtime_minutes AS mov_minutes \n",
    "FROM movie_ratings r \n",
    "JOIN movie_basics b ON r.movie_id=b.movie_id \n",
    "JOIN movie_akas a ON a.movie_id=b.movie_id \n",
    "JOIN directors d ON d.movie_id=a.movie_id \n",
    "JOIN persons p ON p.person_id=d.person_id \n",
    "WHERE r.numvotes > 3000 AND region='US' AND start_year >= 2000  \n",
    "ORDER BY averagerating DESC\n",
    ";\"\"\"\n",
    "#Creating a panda dataframe 'df' of the SQL data file\n",
    "df=pd.read_sql(query,connection)"
   ]
  },
  {
   "cell_type": "code",
   "execution_count": 6,
   "id": "ac1035f5",
   "metadata": {
    "hidden": true
   },
   "outputs": [
    {
     "name": "stdout",
     "output_type": "stream",
     "text": [
      "<class 'pandas.core.frame.DataFrame'>\n",
      "RangeIndex: 20832 entries, 0 to 20831\n",
      "Data columns (total 9 columns):\n",
      " #   Column       Non-Null Count  Dtype  \n",
      "---  ------       --------------  -----  \n",
      " 0   movie_id     20832 non-null  object \n",
      " 1   title        20832 non-null  object \n",
      " 2   genres       20832 non-null  object \n",
      " 3   avg_rating   20832 non-null  float64\n",
      " 4   numvotes     20832 non-null  int64  \n",
      " 5   region       20832 non-null  object \n",
      " 6   director     20832 non-null  object \n",
      " 7   start_year   20832 non-null  int64  \n",
      " 8   mov_minutes  20832 non-null  float64\n",
      "dtypes: float64(2), int64(2), object(5)\n",
      "memory usage: 1.4+ MB\n"
     ]
    }
   ],
   "source": [
    "#Dataframe starts with 20,832 rows of data\n",
    "df.info()"
   ]
  },
  {
   "cell_type": "code",
   "execution_count": 7,
   "id": "51bb14e0",
   "metadata": {
    "hidden": true,
    "scrolled": true
   },
   "outputs": [],
   "source": [
    "#Dropping duplicates from the movie_id column\n",
    "df=df.drop_duplicates(subset=['movie_id'])"
   ]
  },
  {
   "cell_type": "code",
   "execution_count": 8,
   "id": "bf852a47",
   "metadata": {
    "hidden": true
   },
   "outputs": [
    {
     "name": "stdout",
     "output_type": "stream",
     "text": [
      "<class 'pandas.core.frame.DataFrame'>\n",
      "Int64Index: 3391 entries, 0 to 20830\n",
      "Data columns (total 9 columns):\n",
      " #   Column       Non-Null Count  Dtype  \n",
      "---  ------       --------------  -----  \n",
      " 0   movie_id     3391 non-null   object \n",
      " 1   title        3391 non-null   object \n",
      " 2   genres       3391 non-null   object \n",
      " 3   avg_rating   3391 non-null   float64\n",
      " 4   numvotes     3391 non-null   int64  \n",
      " 5   region       3391 non-null   object \n",
      " 6   director     3391 non-null   object \n",
      " 7   start_year   3391 non-null   int64  \n",
      " 8   mov_minutes  3391 non-null   float64\n",
      "dtypes: float64(2), int64(2), object(5)\n",
      "memory usage: 264.9+ KB\n"
     ]
    }
   ],
   "source": [
    "#dropping the duplicates of 'movie_id' we get 3,391 unique rows of data\n",
    "df.info()"
   ]
  },
  {
   "cell_type": "code",
   "execution_count": 9,
   "id": "a804c53c",
   "metadata": {
    "hidden": true
   },
   "outputs": [],
   "source": [
    "#Changing the value type of 'mov_minutes' and 'numvotes' to integer\n",
    "df['mov_minutes'] = df['mov_minutes'].astype(int)\n",
    "df['numvotes'] = df['numvotes'].astype(int)"
   ]
  },
  {
   "cell_type": "code",
   "execution_count": 10,
   "id": "0b793642",
   "metadata": {
    "hidden": true,
    "scrolled": true
   },
   "outputs": [],
   "source": [
    "#Dropping duplicates from the column title, 19 rows dropped (0.006% of the rows)\n",
    "df=df.drop_duplicates(subset=['title'])"
   ]
  },
  {
   "cell_type": "code",
   "execution_count": 11,
   "id": "738060e2",
   "metadata": {
    "hidden": true
   },
   "outputs": [
    {
     "data": {
      "text/plain": [
       "movie_id       0\n",
       "title          0\n",
       "genres         0\n",
       "avg_rating     0\n",
       "numvotes       0\n",
       "region         0\n",
       "director       0\n",
       "start_year     0\n",
       "mov_minutes    0\n",
       "dtype: int64"
      ]
     },
     "execution_count": 11,
     "metadata": {},
     "output_type": "execute_result"
    }
   ],
   "source": [
    "#Checking for NAs in the dataframe\n",
    "df.isna().sum()"
   ]
  },
  {
   "cell_type": "code",
   "execution_count": 12,
   "id": "6413b499",
   "metadata": {
    "hidden": true,
    "scrolled": true
   },
   "outputs": [
    {
     "name": "stdout",
     "output_type": "stream",
     "text": [
      "<class 'pandas.core.frame.DataFrame'>\n",
      "Int64Index: 3372 entries, 0 to 20830\n",
      "Data columns (total 9 columns):\n",
      " #   Column       Non-Null Count  Dtype  \n",
      "---  ------       --------------  -----  \n",
      " 0   movie_id     3372 non-null   object \n",
      " 1   title        3372 non-null   object \n",
      " 2   genres       3372 non-null   object \n",
      " 3   avg_rating   3372 non-null   float64\n",
      " 4   numvotes     3372 non-null   int64  \n",
      " 5   region       3372 non-null   object \n",
      " 6   director     3372 non-null   object \n",
      " 7   start_year   3372 non-null   int64  \n",
      " 8   mov_minutes  3372 non-null   int64  \n",
      "dtypes: float64(1), int64(3), object(5)\n",
      "memory usage: 263.4+ KB\n"
     ]
    }
   ],
   "source": [
    "#checking the information per column\n",
    "df.info()"
   ]
  },
  {
   "cell_type": "markdown",
   "id": "8bb689e3",
   "metadata": {
    "hidden": true
   },
   "source": [
    "A recommendation will be made based on the genre of movies using this dataframe, therefore I will be filtering the most relevant genres that are needed for the analysis."
   ]
  },
  {
   "cell_type": "code",
   "execution_count": 13,
   "id": "0aa9eb6f",
   "metadata": {
    "hidden": true,
    "scrolled": true
   },
   "outputs": [
    {
     "data": {
      "text/plain": [
       "Comedy,Drama               161\n",
       "Drama                      155\n",
       "Comedy,Drama,Romance       150\n",
       "Comedy                     121\n",
       "Drama,Romance               94\n",
       "                          ... \n",
       "Biography,Drama,Musical      1\n",
       "Action,Fantasy,War           1\n",
       "Thriller,Western             1\n",
       "Fantasy,Thriller             1\n",
       "Fantasy,Romance              1\n",
       "Name: genres, Length: 330, dtype: int64"
      ]
     },
     "execution_count": 13,
     "metadata": {},
     "output_type": "execute_result"
    }
   ],
   "source": [
    "#The count of values in the genres column goes from 1 to 161\n",
    "df['genres'].value_counts()"
   ]
  },
  {
   "cell_type": "markdown",
   "id": "3683978c",
   "metadata": {
    "hidden": true
   },
   "source": [
    "Given that the value count of genres is from 1 to 161, I will be using the most relevant genres. I estimate that analyzing genres with count over 50 will be the best approach."
   ]
  },
  {
   "cell_type": "code",
   "execution_count": 14,
   "id": "05f3b879",
   "metadata": {
    "hidden": true,
    "scrolled": false
   },
   "outputs": [],
   "source": [
    "#creating the variable genre_counts with the value_counts function\n",
    "genre_counts = df['genres'].value_counts()\n",
    "#creating a list of genres that have a count greater than 50\n",
    "genres_over50 = genre_counts[genre_counts > 50].index.tolist()\n",
    "#using the isin() method to filter the dataframe based on the selected genres over 50 count\n",
    "df1 = df[df['genres'].isin(genres_over50)]    "
   ]
  },
  {
   "cell_type": "code",
   "execution_count": 15,
   "id": "1e375f2a",
   "metadata": {
    "hidden": true,
    "scrolled": false
   },
   "outputs": [
    {
     "data": {
      "text/html": [
       "<div>\n",
       "<style scoped>\n",
       "    .dataframe tbody tr th:only-of-type {\n",
       "        vertical-align: middle;\n",
       "    }\n",
       "\n",
       "    .dataframe tbody tr th {\n",
       "        vertical-align: top;\n",
       "    }\n",
       "\n",
       "    .dataframe thead th {\n",
       "        text-align: right;\n",
       "    }\n",
       "</style>\n",
       "<table border=\"1\" class=\"dataframe\">\n",
       "  <thead>\n",
       "    <tr style=\"text-align: right;\">\n",
       "      <th></th>\n",
       "      <th>movie_id</th>\n",
       "      <th>title</th>\n",
       "      <th>genres</th>\n",
       "      <th>avg_rating</th>\n",
       "      <th>numvotes</th>\n",
       "      <th>region</th>\n",
       "      <th>director</th>\n",
       "      <th>start_year</th>\n",
       "      <th>mov_minutes</th>\n",
       "    </tr>\n",
       "  </thead>\n",
       "  <tbody>\n",
       "    <tr>\n",
       "      <th>0</th>\n",
       "      <td>tt7131622</td>\n",
       "      <td>Once Upon a Time ... in Hollywood</td>\n",
       "      <td>Comedy,Drama</td>\n",
       "      <td>9.7</td>\n",
       "      <td>5600</td>\n",
       "      <td>US</td>\n",
       "      <td>Quentin Tarantino</td>\n",
       "      <td>2019</td>\n",
       "      <td>159</td>\n",
       "    </tr>\n",
       "    <tr>\n",
       "      <th>2</th>\n",
       "      <td>tt7738784</td>\n",
       "      <td>Peranbu</td>\n",
       "      <td>Drama</td>\n",
       "      <td>9.4</td>\n",
       "      <td>9629</td>\n",
       "      <td>US</td>\n",
       "      <td>Ram</td>\n",
       "      <td>2018</td>\n",
       "      <td>147</td>\n",
       "    </tr>\n",
       "    <tr>\n",
       "      <th>8</th>\n",
       "      <td>tt2170667</td>\n",
       "      <td>Wheels</td>\n",
       "      <td>Drama</td>\n",
       "      <td>9.3</td>\n",
       "      <td>17308</td>\n",
       "      <td>US</td>\n",
       "      <td>Donavon Warren</td>\n",
       "      <td>2014</td>\n",
       "      <td>115</td>\n",
       "    </tr>\n",
       "    <tr>\n",
       "      <th>11</th>\n",
       "      <td>tt1375666</td>\n",
       "      <td>Inception</td>\n",
       "      <td>Action,Adventure,Sci-Fi</td>\n",
       "      <td>8.8</td>\n",
       "      <td>1841066</td>\n",
       "      <td>US</td>\n",
       "      <td>Christopher Nolan</td>\n",
       "      <td>2010</td>\n",
       "      <td>148</td>\n",
       "    </tr>\n",
       "    <tr>\n",
       "      <th>15</th>\n",
       "      <td>tt6019206</td>\n",
       "      <td>Kill Bill: The Whole Bloody Affair</td>\n",
       "      <td>Action,Crime,Thriller</td>\n",
       "      <td>8.8</td>\n",
       "      <td>3406</td>\n",
       "      <td>US</td>\n",
       "      <td>Quentin Tarantino</td>\n",
       "      <td>2011</td>\n",
       "      <td>247</td>\n",
       "    </tr>\n",
       "  </tbody>\n",
       "</table>\n",
       "</div>"
      ],
      "text/plain": [
       "     movie_id                               title                   genres  \\\n",
       "0   tt7131622   Once Upon a Time ... in Hollywood             Comedy,Drama   \n",
       "2   tt7738784                             Peranbu                    Drama   \n",
       "8   tt2170667                              Wheels                    Drama   \n",
       "11  tt1375666                           Inception  Action,Adventure,Sci-Fi   \n",
       "15  tt6019206  Kill Bill: The Whole Bloody Affair    Action,Crime,Thriller   \n",
       "\n",
       "    avg_rating  numvotes region           director  start_year  mov_minutes  \n",
       "0          9.7      5600     US  Quentin Tarantino        2019          159  \n",
       "2          9.4      9629     US                Ram        2018          147  \n",
       "8          9.3     17308     US     Donavon Warren        2014          115  \n",
       "11         8.8   1841066     US  Christopher Nolan        2010          148  \n",
       "15         8.8      3406     US  Quentin Tarantino        2011          247  "
      ]
     },
     "execution_count": 15,
     "metadata": {},
     "output_type": "execute_result"
    }
   ],
   "source": [
    "#Checking the cleaned dataframe from IMDB \n",
    "#new name of the filtered dataframe\n",
    "df1.head()"
   ]
  },
  {
   "cell_type": "markdown",
   "id": "83ffb705",
   "metadata": {
    "heading_collapsed": true,
    "hidden": true
   },
   "source": [
    "### Rotten Tomatoes Data Files"
   ]
  },
  {
   "cell_type": "markdown",
   "id": "7fd9ed1f",
   "metadata": {
    "hidden": true
   },
   "source": [
    "Getting detailed information of the Rotten Tomatoes Info data file per column.\n",
    "The rt_info dataframe has 1560 rows and 12 columns of data."
   ]
  },
  {
   "cell_type": "code",
   "execution_count": 16,
   "id": "71b3346c",
   "metadata": {
    "hidden": true,
    "scrolled": true
   },
   "outputs": [
    {
     "name": "stdout",
     "output_type": "stream",
     "text": [
      "<class 'pandas.core.frame.DataFrame'>\n",
      "RangeIndex: 1560 entries, 0 to 1559\n",
      "Data columns (total 12 columns):\n",
      " #   Column        Non-Null Count  Dtype \n",
      "---  ------        --------------  ----- \n",
      " 0   id            1560 non-null   int64 \n",
      " 1   synopsis      1498 non-null   object\n",
      " 2   rating        1557 non-null   object\n",
      " 3   genre         1552 non-null   object\n",
      " 4   director      1361 non-null   object\n",
      " 5   writer        1111 non-null   object\n",
      " 6   theater_date  1201 non-null   object\n",
      " 7   dvd_date      1201 non-null   object\n",
      " 8   currency      340 non-null    object\n",
      " 9   box_office    340 non-null    object\n",
      " 10  runtime       1530 non-null   object\n",
      " 11  studio        494 non-null    object\n",
      "dtypes: int64(1), object(11)\n",
      "memory usage: 146.4+ KB\n"
     ]
    }
   ],
   "source": [
    "#checking info per column\n",
    "rt_info.info()"
   ]
  },
  {
   "cell_type": "code",
   "execution_count": 17,
   "id": "649d8751",
   "metadata": {
    "hidden": true
   },
   "outputs": [],
   "source": [
    "#Changing the date column to datetime format\n",
    "rt_info['theater_date'] = pd.to_datetime(rt_info['theater_date'])"
   ]
  },
  {
   "cell_type": "code",
   "execution_count": 18,
   "id": "956459c4",
   "metadata": {
    "hidden": true
   },
   "outputs": [],
   "source": [
    "#creating new columns for month and year\n",
    "rt_info['theater_month']=rt_info['theater_date'].dt.month\n",
    "rt_info['theater_year']=rt_info['theater_date'].dt.year"
   ]
  },
  {
   "cell_type": "code",
   "execution_count": 19,
   "id": "19ddd67a",
   "metadata": {
    "hidden": true
   },
   "outputs": [],
   "source": [
    "#Filtering movies from 2000 until now in the 'theater_year' column\n",
    "rt_info=rt_info[(rt_info['theater_year']>=2000)]"
   ]
  },
  {
   "cell_type": "code",
   "execution_count": 20,
   "id": "121684a1",
   "metadata": {
    "hidden": true
   },
   "outputs": [],
   "source": [
    "#dropping NA values from the box office column\n",
    "rt_info=rt_info.dropna(subset=['box_office'])"
   ]
  },
  {
   "cell_type": "markdown",
   "id": "a4d605dd",
   "metadata": {
    "hidden": true
   },
   "source": [
    "To not lose valuable information I will fill the corresponding director, writer and studio columns NA values with the string 'Not Available'."
   ]
  },
  {
   "cell_type": "code",
   "execution_count": 21,
   "id": "6b6a67d4",
   "metadata": {
    "hidden": true
   },
   "outputs": [],
   "source": [
    "#replacing NA values with string\n",
    "rt_info.loc[:, 'director'] = rt_info['director'].fillna('Not Available')\n",
    "rt_info.loc[:, 'studio'] = rt_info['studio'].fillna('Not Available')"
   ]
  },
  {
   "cell_type": "code",
   "execution_count": 22,
   "id": "58f11daf",
   "metadata": {
    "hidden": true
   },
   "outputs": [],
   "source": [
    "#dropping NA values from the runtime column\n",
    "rt_info.dropna(subset=['runtime'], inplace=True)"
   ]
  },
  {
   "cell_type": "code",
   "execution_count": 23,
   "id": "359be959",
   "metadata": {
    "hidden": true
   },
   "outputs": [],
   "source": [
    "#Dropping columns that are not necessary for analysis\n",
    "rt_info.drop(columns=['theater_date', 'dvd_date', 'writer', 'synopsis', 'currency'], inplace=True)"
   ]
  },
  {
   "cell_type": "code",
   "execution_count": 24,
   "id": "2d7463fd",
   "metadata": {
    "hidden": true,
    "scrolled": true
   },
   "outputs": [
    {
     "data": {
      "text/plain": [
       "id               0\n",
       "rating           0\n",
       "genre            0\n",
       "director         0\n",
       "box_office       0\n",
       "runtime          0\n",
       "studio           0\n",
       "theater_month    0\n",
       "theater_year     0\n",
       "dtype: int64"
      ]
     },
     "execution_count": 24,
     "metadata": {},
     "output_type": "execute_result"
    }
   ],
   "source": [
    "#checking for the NA values per column\n",
    "rt_info.isna().sum()"
   ]
  },
  {
   "cell_type": "code",
   "execution_count": 25,
   "id": "0f93850a",
   "metadata": {
    "hidden": true
   },
   "outputs": [
    {
     "data": {
      "text/plain": [
       "95 minutes     12\n",
       "91 minutes     11\n",
       "93 minutes     11\n",
       "115 minutes    11\n",
       "108 minutes    11\n",
       "               ..\n",
       "81 minutes      1\n",
       "170 minutes     1\n",
       "138 minutes     1\n",
       "67 minutes      1\n",
       "124 minutes     1\n",
       "Name: runtime, Length: 74, dtype: int64"
      ]
     },
     "execution_count": 25,
     "metadata": {},
     "output_type": "execute_result"
    }
   ],
   "source": [
    "#checking the value count in the runtime column\n",
    "rt_info['runtime'].value_counts()"
   ]
  },
  {
   "cell_type": "code",
   "execution_count": 26,
   "id": "ae5819c0",
   "metadata": {
    "hidden": true
   },
   "outputs": [],
   "source": [
    "# Extracting the first numbers from the runtime column\n",
    "rt_info['runtime']=rt_info['runtime'].str.extract('(\\d+)').astype(int)"
   ]
  },
  {
   "cell_type": "code",
   "execution_count": 27,
   "id": "0414b50d",
   "metadata": {
    "hidden": true
   },
   "outputs": [],
   "source": [
    "#changing the box office, month and year columns to integer type value for easier analysis\n",
    "rt_info['box_office'] = rt_info['box_office'].str.replace(',', '').astype(int)\n",
    "rt_info['theater_month']=rt_info['theater_month'].astype(int)\n",
    "rt_info['theater_year']=rt_info['theater_year'].astype(int)"
   ]
  },
  {
   "cell_type": "code",
   "execution_count": 28,
   "id": "e0471a4d",
   "metadata": {
    "hidden": true,
    "scrolled": true
   },
   "outputs": [
    {
     "data": {
      "text/html": [
       "<div>\n",
       "<style scoped>\n",
       "    .dataframe tbody tr th:only-of-type {\n",
       "        vertical-align: middle;\n",
       "    }\n",
       "\n",
       "    .dataframe tbody tr th {\n",
       "        vertical-align: top;\n",
       "    }\n",
       "\n",
       "    .dataframe thead th {\n",
       "        text-align: right;\n",
       "    }\n",
       "</style>\n",
       "<table border=\"1\" class=\"dataframe\">\n",
       "  <thead>\n",
       "    <tr style=\"text-align: right;\">\n",
       "      <th></th>\n",
       "      <th>id</th>\n",
       "      <th>box_office</th>\n",
       "      <th>runtime</th>\n",
       "      <th>theater_month</th>\n",
       "      <th>theater_year</th>\n",
       "    </tr>\n",
       "  </thead>\n",
       "  <tbody>\n",
       "    <tr>\n",
       "      <th>count</th>\n",
       "      <td>324.00</td>\n",
       "      <td>324.00</td>\n",
       "      <td>324.00</td>\n",
       "      <td>324.00</td>\n",
       "      <td>324.00</td>\n",
       "    </tr>\n",
       "    <tr>\n",
       "      <th>mean</th>\n",
       "      <td>1018.20</td>\n",
       "      <td>38655398.52</td>\n",
       "      <td>106.35</td>\n",
       "      <td>6.94</td>\n",
       "      <td>2008.36</td>\n",
       "    </tr>\n",
       "    <tr>\n",
       "      <th>std</th>\n",
       "      <td>582.73</td>\n",
       "      <td>58234237.38</td>\n",
       "      <td>19.41</td>\n",
       "      <td>3.43</td>\n",
       "      <td>4.70</td>\n",
       "    </tr>\n",
       "    <tr>\n",
       "      <th>min</th>\n",
       "      <td>3.00</td>\n",
       "      <td>363.00</td>\n",
       "      <td>15.00</td>\n",
       "      <td>1.00</td>\n",
       "      <td>2000.00</td>\n",
       "    </tr>\n",
       "    <tr>\n",
       "      <th>25%</th>\n",
       "      <td>487.50</td>\n",
       "      <td>2025631.25</td>\n",
       "      <td>93.00</td>\n",
       "      <td>4.00</td>\n",
       "      <td>2004.00</td>\n",
       "    </tr>\n",
       "    <tr>\n",
       "      <th>50%</th>\n",
       "      <td>1050.50</td>\n",
       "      <td>14422032.00</td>\n",
       "      <td>104.50</td>\n",
       "      <td>7.00</td>\n",
       "      <td>2008.00</td>\n",
       "    </tr>\n",
       "    <tr>\n",
       "      <th>75%</th>\n",
       "      <td>1523.50</td>\n",
       "      <td>47182321.00</td>\n",
       "      <td>117.00</td>\n",
       "      <td>10.00</td>\n",
       "      <td>2012.00</td>\n",
       "    </tr>\n",
       "    <tr>\n",
       "      <th>max</th>\n",
       "      <td>1996.00</td>\n",
       "      <td>368000000.00</td>\n",
       "      <td>229.00</td>\n",
       "      <td>12.00</td>\n",
       "      <td>2018.00</td>\n",
       "    </tr>\n",
       "  </tbody>\n",
       "</table>\n",
       "</div>"
      ],
      "text/plain": [
       "           id   box_office  runtime  theater_month  theater_year\n",
       "count  324.00       324.00   324.00         324.00        324.00\n",
       "mean  1018.20  38655398.52   106.35           6.94       2008.36\n",
       "std    582.73  58234237.38    19.41           3.43          4.70\n",
       "min      3.00       363.00    15.00           1.00       2000.00\n",
       "25%    487.50   2025631.25    93.00           4.00       2004.00\n",
       "50%   1050.50  14422032.00   104.50           7.00       2008.00\n",
       "75%   1523.50  47182321.00   117.00          10.00       2012.00\n",
       "max   1996.00 368000000.00   229.00          12.00       2018.00"
      ]
     },
     "execution_count": 28,
     "metadata": {},
     "output_type": "execute_result"
    }
   ],
   "source": [
    "#setting the float format from the dataframe to display numbers with 2 decimal places\n",
    "pd.options.display.float_format = '{:.2f}'.format\n",
    "\n",
    "#calling the describe info to check for new format\n",
    "rt_info.describe()"
   ]
  },
  {
   "cell_type": "markdown",
   "id": "818f35e3",
   "metadata": {
    "hidden": true
   },
   "source": [
    "In the rating column, I will be dropping the ratings that are not part of the Film Rating System."
   ]
  },
  {
   "cell_type": "code",
   "execution_count": 29,
   "id": "47976954",
   "metadata": {
    "hidden": true
   },
   "outputs": [
    {
     "name": "stdout",
     "output_type": "stream",
     "text": [
      "1           R\n",
      "6       PG-13\n",
      "7           R\n",
      "8           R\n",
      "15          R\n",
      "        ...  \n",
      "1530       PG\n",
      "1541    PG-13\n",
      "1545        R\n",
      "1546       PG\n",
      "1555        R\n",
      "Name: rating, Length: 310, dtype: object\n"
     ]
    }
   ],
   "source": [
    "#checking the values and counts from the rating column\n",
    "rt_info['rating'].value_counts()\n",
    "\n",
    "#keeping values that are not NR and NC17 because they are not considered ratings in the film rating system\n",
    "rt_info = rt_info[~rt_info['rating'].isin(['NR', 'NC17'])]\n",
    "\n",
    "#checking the values\n",
    "print(rt_info['rating'])"
   ]
  },
  {
   "cell_type": "markdown",
   "id": "53ffb909",
   "metadata": {
    "hidden": true
   },
   "source": [
    "Second Data file from rotten tomatoes website.\n",
    "\n",
    "Starting the data cleaning of Rotten Tomatoes Reviews. The data file contains 54,432 rows of data, and 8 columns of information."
   ]
  },
  {
   "cell_type": "code",
   "execution_count": 30,
   "id": "e08a3bbf",
   "metadata": {
    "hidden": true,
    "scrolled": true
   },
   "outputs": [
    {
     "name": "stdout",
     "output_type": "stream",
     "text": [
      "<class 'pandas.core.frame.DataFrame'>\n",
      "RangeIndex: 54432 entries, 0 to 54431\n",
      "Data columns (total 8 columns):\n",
      " #   Column      Non-Null Count  Dtype \n",
      "---  ------      --------------  ----- \n",
      " 0   id          54432 non-null  int64 \n",
      " 1   review      48869 non-null  object\n",
      " 2   rating      40915 non-null  object\n",
      " 3   fresh       54432 non-null  object\n",
      " 4   critic      51710 non-null  object\n",
      " 5   top_critic  54432 non-null  int64 \n",
      " 6   publisher   54123 non-null  object\n",
      " 7   date        54432 non-null  object\n",
      "dtypes: int64(2), object(6)\n",
      "memory usage: 3.3+ MB\n"
     ]
    }
   ],
   "source": [
    "#Checking for missing information per column\n",
    "rt_reviews.info()"
   ]
  },
  {
   "cell_type": "markdown",
   "id": "57890041",
   "metadata": {
    "hidden": true
   },
   "source": [
    "I want to keep the movie rating intact even if a critic didn't leave a review. So, any missing reviews will simply be filled with the word 'None'."
   ]
  },
  {
   "cell_type": "code",
   "execution_count": 31,
   "id": "3d8c2b93",
   "metadata": {
    "hidden": true
   },
   "outputs": [],
   "source": [
    "#Changing missing reviews to 'None'\n",
    "rt_reviews['review']=rt_reviews['review'].fillna('None')"
   ]
  },
  {
   "cell_type": "code",
   "execution_count": 32,
   "id": "6725c5d3",
   "metadata": {
    "hidden": true
   },
   "outputs": [],
   "source": [
    "#dropping the NAs in the publisher column\n",
    "rt_reviews.dropna(subset=['publisher'], inplace=True)"
   ]
  },
  {
   "cell_type": "markdown",
   "id": "e0b9cdd2",
   "metadata": {
    "hidden": true
   },
   "source": [
    "NA values in the rating column that are missing will be dropped. We can't validate/confirm the 'fresh' value in the column without the rating."
   ]
  },
  {
   "cell_type": "code",
   "execution_count": 33,
   "id": "ca170d14",
   "metadata": {
    "hidden": true
   },
   "outputs": [],
   "source": [
    "#Dropping NAs in rating column\n",
    "rt_reviews.dropna(subset=['rating'], inplace=True)"
   ]
  },
  {
   "cell_type": "code",
   "execution_count": 34,
   "id": "d5079516",
   "metadata": {
    "hidden": true
   },
   "outputs": [],
   "source": [
    "#Dropping NAs from the critics column\n",
    "rt_reviews.dropna(subset=['critic'], inplace=True)"
   ]
  },
  {
   "cell_type": "code",
   "execution_count": 35,
   "id": "2538450d",
   "metadata": {
    "hidden": true
   },
   "outputs": [
    {
     "data": {
      "text/plain": [
       "id            0\n",
       "review        0\n",
       "rating        0\n",
       "fresh         0\n",
       "critic        0\n",
       "top_critic    0\n",
       "publisher     0\n",
       "date          0\n",
       "dtype: int64"
      ]
     },
     "execution_count": 35,
     "metadata": {},
     "output_type": "execute_result"
    }
   ],
   "source": [
    "#checking for the NAs in all the columns\n",
    "rt_reviews.isna().sum()"
   ]
  },
  {
   "cell_type": "markdown",
   "id": "bbb21f9d",
   "metadata": {
    "hidden": true
   },
   "source": [
    "I'll convert the date column values into datetime format and split them into separate columns for month and year to facilitate analysis. Afterwards, I'll filter out movies released from 2000 to the present."
   ]
  },
  {
   "cell_type": "code",
   "execution_count": 36,
   "id": "e693a6cf",
   "metadata": {
    "hidden": true
   },
   "outputs": [],
   "source": [
    "#using date time function to change the date column\n",
    "rt_reviews['date']=pd.to_datetime(rt_reviews['date'])"
   ]
  },
  {
   "cell_type": "code",
   "execution_count": 37,
   "id": "88c98289",
   "metadata": {
    "hidden": true
   },
   "outputs": [],
   "source": [
    "#separating month and year columns from the date column\n",
    "rt_reviews['month']=rt_reviews['date'].dt.month\n",
    "rt_reviews['year']=rt_reviews['date'].dt.year"
   ]
  },
  {
   "cell_type": "code",
   "execution_count": 38,
   "id": "abd14fef",
   "metadata": {
    "hidden": true
   },
   "outputs": [],
   "source": [
    "#filtering data frame to rows with information from the 2000's to now.\n",
    "rt_reviews=rt_reviews[(rt_reviews['year']>=2000)]"
   ]
  },
  {
   "cell_type": "code",
   "execution_count": 39,
   "id": "5eeb4fb5",
   "metadata": {
    "hidden": true
   },
   "outputs": [],
   "source": [
    "#Dropping reviews with no rating, they dont add value to the data file\n",
    "rt_reviews['rating']=rt_reviews.dropna(subset=['rating'], inplace=True )"
   ]
  },
  {
   "cell_type": "code",
   "execution_count": 40,
   "id": "ef0a5961",
   "metadata": {
    "hidden": true
   },
   "outputs": [
    {
     "data": {
      "text/html": [
       "<div>\n",
       "<style scoped>\n",
       "    .dataframe tbody tr th:only-of-type {\n",
       "        vertical-align: middle;\n",
       "    }\n",
       "\n",
       "    .dataframe tbody tr th {\n",
       "        vertical-align: top;\n",
       "    }\n",
       "\n",
       "    .dataframe thead th {\n",
       "        text-align: right;\n",
       "    }\n",
       "</style>\n",
       "<table border=\"1\" class=\"dataframe\">\n",
       "  <thead>\n",
       "    <tr style=\"text-align: right;\">\n",
       "      <th></th>\n",
       "      <th>id</th>\n",
       "      <th>review</th>\n",
       "      <th>rating</th>\n",
       "      <th>fresh</th>\n",
       "      <th>critic</th>\n",
       "      <th>top_critic</th>\n",
       "      <th>publisher</th>\n",
       "      <th>date</th>\n",
       "      <th>month</th>\n",
       "      <th>year</th>\n",
       "    </tr>\n",
       "  </thead>\n",
       "  <tbody>\n",
       "    <tr>\n",
       "      <th>0</th>\n",
       "      <td>3</td>\n",
       "      <td>A distinctly gallows take on contemporary fina...</td>\n",
       "      <td>None</td>\n",
       "      <td>fresh</td>\n",
       "      <td>PJ Nabarro</td>\n",
       "      <td>0</td>\n",
       "      <td>Patrick Nabarro</td>\n",
       "      <td>2018-11-10</td>\n",
       "      <td>11</td>\n",
       "      <td>2018</td>\n",
       "    </tr>\n",
       "    <tr>\n",
       "      <th>6</th>\n",
       "      <td>3</td>\n",
       "      <td>Quickly grows repetitive and tiresome, meander...</td>\n",
       "      <td>None</td>\n",
       "      <td>rotten</td>\n",
       "      <td>Eric D. Snider</td>\n",
       "      <td>0</td>\n",
       "      <td>EricDSnider.com</td>\n",
       "      <td>2013-07-17</td>\n",
       "      <td>7</td>\n",
       "      <td>2013</td>\n",
       "    </tr>\n",
       "    <tr>\n",
       "      <th>7</th>\n",
       "      <td>3</td>\n",
       "      <td>Cronenberg is not a director to be daunted by ...</td>\n",
       "      <td>None</td>\n",
       "      <td>rotten</td>\n",
       "      <td>Matt Kelemen</td>\n",
       "      <td>0</td>\n",
       "      <td>Las Vegas CityLife</td>\n",
       "      <td>2013-04-21</td>\n",
       "      <td>4</td>\n",
       "      <td>2013</td>\n",
       "    </tr>\n",
       "    <tr>\n",
       "      <th>11</th>\n",
       "      <td>3</td>\n",
       "      <td>While not one of Cronenberg's stronger films, ...</td>\n",
       "      <td>None</td>\n",
       "      <td>fresh</td>\n",
       "      <td>Emanuel Levy</td>\n",
       "      <td>0</td>\n",
       "      <td>EmanuelLevy.Com</td>\n",
       "      <td>2013-02-03</td>\n",
       "      <td>2</td>\n",
       "      <td>2013</td>\n",
       "    </tr>\n",
       "    <tr>\n",
       "      <th>12</th>\n",
       "      <td>3</td>\n",
       "      <td>Robert Pattinson works mighty hard to make Cos...</td>\n",
       "      <td>None</td>\n",
       "      <td>rotten</td>\n",
       "      <td>Christian Toto</td>\n",
       "      <td>0</td>\n",
       "      <td>Big Hollywood</td>\n",
       "      <td>2013-01-15</td>\n",
       "      <td>1</td>\n",
       "      <td>2013</td>\n",
       "    </tr>\n",
       "  </tbody>\n",
       "</table>\n",
       "</div>"
      ],
      "text/plain": [
       "    id                                             review rating   fresh  \\\n",
       "0    3  A distinctly gallows take on contemporary fina...   None   fresh   \n",
       "6    3  Quickly grows repetitive and tiresome, meander...   None  rotten   \n",
       "7    3  Cronenberg is not a director to be daunted by ...   None  rotten   \n",
       "11   3  While not one of Cronenberg's stronger films, ...   None   fresh   \n",
       "12   3  Robert Pattinson works mighty hard to make Cos...   None  rotten   \n",
       "\n",
       "            critic  top_critic           publisher       date  month  year  \n",
       "0       PJ Nabarro           0     Patrick Nabarro 2018-11-10     11  2018  \n",
       "6   Eric D. Snider           0     EricDSnider.com 2013-07-17      7  2013  \n",
       "7     Matt Kelemen           0  Las Vegas CityLife 2013-04-21      4  2013  \n",
       "11    Emanuel Levy           0     EmanuelLevy.Com 2013-02-03      2  2013  \n",
       "12  Christian Toto           0       Big Hollywood 2013-01-15      1  2013  "
      ]
     },
     "execution_count": 40,
     "metadata": {},
     "output_type": "execute_result"
    }
   ],
   "source": [
    "#checking the head of the dataframe 'rt_reviews'\n",
    "rt_reviews.head(5)"
   ]
  },
  {
   "cell_type": "markdown",
   "id": "46b6172d",
   "metadata": {
    "heading_collapsed": true,
    "hidden": true
   },
   "source": [
    "### Business/Revenue Related Data Files\n"
   ]
  },
  {
   "cell_type": "markdown",
   "id": "0f6a0a6b",
   "metadata": {
    "hidden": true
   },
   "source": [
    "I'll kickstart the data cleaning process by examining the data file sourced from \"The Numbers,\" a reputable website renowned for meticulously tracking business information related to movies."
   ]
  },
  {
   "cell_type": "code",
   "execution_count": 41,
   "id": "61ee6b18",
   "metadata": {
    "hidden": true,
    "scrolled": false
   },
   "outputs": [
    {
     "name": "stdout",
     "output_type": "stream",
     "text": [
      "<class 'pandas.core.frame.DataFrame'>\n",
      "RangeIndex: 5782 entries, 0 to 5781\n",
      "Data columns (total 6 columns):\n",
      " #   Column             Non-Null Count  Dtype \n",
      "---  ------             --------------  ----- \n",
      " 0   id                 5782 non-null   int64 \n",
      " 1   release_date       5782 non-null   object\n",
      " 2   movie              5782 non-null   object\n",
      " 3   production_budget  5782 non-null   object\n",
      " 4   domestic_gross     5782 non-null   object\n",
      " 5   worldwide_gross    5782 non-null   object\n",
      "dtypes: int64(1), object(5)\n",
      "memory usage: 271.2+ KB\n"
     ]
    }
   ],
   "source": [
    "#Dataframe contains 5,782 rows of information and 6 columns.\n",
    "thenumbers.info()"
   ]
  },
  {
   "cell_type": "code",
   "execution_count": 42,
   "id": "8e1c04c1",
   "metadata": {
    "hidden": true
   },
   "outputs": [],
   "source": [
    "#Dropping duplicates using the column 'movie'\n",
    "thenumbers=thenumbers.drop_duplicates(subset=['movie'])"
   ]
  },
  {
   "cell_type": "code",
   "execution_count": 43,
   "id": "95614174",
   "metadata": {
    "hidden": true
   },
   "outputs": [],
   "source": [
    "#Dropping movies that have a domestic and worlwide gross revenue of $0\n",
    "thenumbers=thenumbers[thenumbers['domestic_gross'] != '$0']\n",
    "thenumbers=thenumbers[thenumbers['worldwide_gross'] != '$0']"
   ]
  },
  {
   "cell_type": "code",
   "execution_count": 44,
   "id": "0f4d8e46",
   "metadata": {
    "hidden": true
   },
   "outputs": [],
   "source": [
    "#changing the 'release_date' column to date time format\n",
    "thenumbers['release_date'] = pd.to_datetime(thenumbers['release_date'])"
   ]
  },
  {
   "cell_type": "code",
   "execution_count": 45,
   "id": "ea730e04",
   "metadata": {
    "hidden": true
   },
   "outputs": [],
   "source": [
    "#Creating new columns for year and month of the release of a movie\n",
    "thenumbers['release_month']=thenumbers['release_date'].dt.month\n",
    "thenumbers['release_year']=thenumbers['release_date'].dt.year"
   ]
  },
  {
   "cell_type": "code",
   "execution_count": 46,
   "id": "dc9f372a",
   "metadata": {
    "hidden": true
   },
   "outputs": [],
   "source": [
    "#Filtering the data frame to include only movies from the 2000's to now\n",
    "thenumbers=thenumbers[(thenumbers['release_year'] >= 2000)]"
   ]
  },
  {
   "cell_type": "code",
   "execution_count": 47,
   "id": "110928f2",
   "metadata": {
    "hidden": true
   },
   "outputs": [],
   "source": [
    "#changing the columns from float to integer\n",
    "thenumbers['production_budget']=thenumbers['production_budget'].replace('[\\$,]', '', regex=True).astype(int)\n",
    "thenumbers['domestic_gross']=thenumbers['domestic_gross'].replace('[\\$,]', '', regex=True).astype(int)\n",
    "thenumbers['worldwide_gross']=thenumbers['worldwide_gross'].replace('[\\$,]', '', regex=True).astype(int)"
   ]
  },
  {
   "cell_type": "code",
   "execution_count": 48,
   "id": "1bbf9894",
   "metadata": {
    "hidden": true
   },
   "outputs": [],
   "source": [
    "#Setting the display format for floating-point numbers to show 2 decimal places.\n",
    "pd.set_option('display.float_format', '{:.2f}'.format)"
   ]
  },
  {
   "cell_type": "code",
   "execution_count": 49,
   "id": "10788c6e",
   "metadata": {
    "hidden": true,
    "scrolled": false
   },
   "outputs": [
    {
     "data": {
      "text/plain": [
       "id                   0\n",
       "release_date         0\n",
       "movie                0\n",
       "production_budget    0\n",
       "domestic_gross       0\n",
       "worldwide_gross      0\n",
       "release_month        0\n",
       "release_year         0\n",
       "dtype: int64"
      ]
     },
     "execution_count": 49,
     "metadata": {},
     "output_type": "execute_result"
    }
   ],
   "source": [
    "#checking for a clean dataframe\n",
    "thenumbers.isna().sum()"
   ]
  },
  {
   "cell_type": "code",
   "execution_count": 50,
   "id": "57baf016",
   "metadata": {
    "hidden": true
   },
   "outputs": [
    {
     "data": {
      "text/html": [
       "<div>\n",
       "<style scoped>\n",
       "    .dataframe tbody tr th:only-of-type {\n",
       "        vertical-align: middle;\n",
       "    }\n",
       "\n",
       "    .dataframe tbody tr th {\n",
       "        vertical-align: top;\n",
       "    }\n",
       "\n",
       "    .dataframe thead th {\n",
       "        text-align: right;\n",
       "    }\n",
       "</style>\n",
       "<table border=\"1\" class=\"dataframe\">\n",
       "  <thead>\n",
       "    <tr style=\"text-align: right;\">\n",
       "      <th></th>\n",
       "      <th>id</th>\n",
       "      <th>release_date</th>\n",
       "      <th>movie</th>\n",
       "      <th>production_budget</th>\n",
       "      <th>domestic_gross</th>\n",
       "      <th>worldwide_gross</th>\n",
       "      <th>release_month</th>\n",
       "      <th>release_year</th>\n",
       "    </tr>\n",
       "  </thead>\n",
       "  <tbody>\n",
       "    <tr>\n",
       "      <th>0</th>\n",
       "      <td>1</td>\n",
       "      <td>2009-12-18</td>\n",
       "      <td>Avatar</td>\n",
       "      <td>425000000</td>\n",
       "      <td>760507625</td>\n",
       "      <td>2776345279</td>\n",
       "      <td>12</td>\n",
       "      <td>2009</td>\n",
       "    </tr>\n",
       "    <tr>\n",
       "      <th>1</th>\n",
       "      <td>2</td>\n",
       "      <td>2011-05-20</td>\n",
       "      <td>Pirates of the Caribbean: On Stranger Tides</td>\n",
       "      <td>410600000</td>\n",
       "      <td>241063875</td>\n",
       "      <td>1045663875</td>\n",
       "      <td>5</td>\n",
       "      <td>2011</td>\n",
       "    </tr>\n",
       "    <tr>\n",
       "      <th>2</th>\n",
       "      <td>3</td>\n",
       "      <td>2019-06-07</td>\n",
       "      <td>Dark Phoenix</td>\n",
       "      <td>350000000</td>\n",
       "      <td>42762350</td>\n",
       "      <td>149762350</td>\n",
       "      <td>6</td>\n",
       "      <td>2019</td>\n",
       "    </tr>\n",
       "    <tr>\n",
       "      <th>3</th>\n",
       "      <td>4</td>\n",
       "      <td>2015-05-01</td>\n",
       "      <td>Avengers: Age of Ultron</td>\n",
       "      <td>330600000</td>\n",
       "      <td>459005868</td>\n",
       "      <td>1403013963</td>\n",
       "      <td>5</td>\n",
       "      <td>2015</td>\n",
       "    </tr>\n",
       "    <tr>\n",
       "      <th>4</th>\n",
       "      <td>5</td>\n",
       "      <td>2017-12-15</td>\n",
       "      <td>Star Wars Ep. VIII: The Last Jedi</td>\n",
       "      <td>317000000</td>\n",
       "      <td>620181382</td>\n",
       "      <td>1316721747</td>\n",
       "      <td>12</td>\n",
       "      <td>2017</td>\n",
       "    </tr>\n",
       "  </tbody>\n",
       "</table>\n",
       "</div>"
      ],
      "text/plain": [
       "   id release_date                                        movie  \\\n",
       "0   1   2009-12-18                                       Avatar   \n",
       "1   2   2011-05-20  Pirates of the Caribbean: On Stranger Tides   \n",
       "2   3   2019-06-07                                 Dark Phoenix   \n",
       "3   4   2015-05-01                      Avengers: Age of Ultron   \n",
       "4   5   2017-12-15            Star Wars Ep. VIII: The Last Jedi   \n",
       "\n",
       "   production_budget  domestic_gross  worldwide_gross  release_month  \\\n",
       "0          425000000       760507625       2776345279             12   \n",
       "1          410600000       241063875       1045663875              5   \n",
       "2          350000000        42762350        149762350              6   \n",
       "3          330600000       459005868       1403013963              5   \n",
       "4          317000000       620181382       1316721747             12   \n",
       "\n",
       "   release_year  \n",
       "0          2009  \n",
       "1          2011  \n",
       "2          2019  \n",
       "3          2015  \n",
       "4          2017  "
      ]
     },
     "execution_count": 50,
     "metadata": {},
     "output_type": "execute_result"
    }
   ],
   "source": [
    "#checking the dataframe's head rows\n",
    "thenumbers.head(5)"
   ]
  },
  {
   "cell_type": "markdown",
   "id": "72d02d21",
   "metadata": {
    "hidden": true
   },
   "source": [
    "Starting the data cleansing process for the data file from \"The Box Office Mojo\" Website which tracks box-office revenue."
   ]
  },
  {
   "cell_type": "code",
   "execution_count": 51,
   "id": "2bf7e977",
   "metadata": {
    "hidden": true
   },
   "outputs": [
    {
     "data": {
      "text/html": [
       "<div>\n",
       "<style scoped>\n",
       "    .dataframe tbody tr th:only-of-type {\n",
       "        vertical-align: middle;\n",
       "    }\n",
       "\n",
       "    .dataframe tbody tr th {\n",
       "        vertical-align: top;\n",
       "    }\n",
       "\n",
       "    .dataframe thead th {\n",
       "        text-align: right;\n",
       "    }\n",
       "</style>\n",
       "<table border=\"1\" class=\"dataframe\">\n",
       "  <thead>\n",
       "    <tr style=\"text-align: right;\">\n",
       "      <th></th>\n",
       "      <th>title</th>\n",
       "      <th>studio</th>\n",
       "      <th>domestic_gross</th>\n",
       "      <th>foreign_gross</th>\n",
       "      <th>year</th>\n",
       "    </tr>\n",
       "  </thead>\n",
       "  <tbody>\n",
       "    <tr>\n",
       "      <th>0</th>\n",
       "      <td>Toy Story 3</td>\n",
       "      <td>BV</td>\n",
       "      <td>415000000.00</td>\n",
       "      <td>652000000</td>\n",
       "      <td>2010</td>\n",
       "    </tr>\n",
       "    <tr>\n",
       "      <th>1</th>\n",
       "      <td>Alice in Wonderland (2010)</td>\n",
       "      <td>BV</td>\n",
       "      <td>334200000.00</td>\n",
       "      <td>691300000</td>\n",
       "      <td>2010</td>\n",
       "    </tr>\n",
       "    <tr>\n",
       "      <th>2</th>\n",
       "      <td>Harry Potter and the Deathly Hallows Part 1</td>\n",
       "      <td>WB</td>\n",
       "      <td>296000000.00</td>\n",
       "      <td>664300000</td>\n",
       "      <td>2010</td>\n",
       "    </tr>\n",
       "    <tr>\n",
       "      <th>3</th>\n",
       "      <td>Inception</td>\n",
       "      <td>WB</td>\n",
       "      <td>292600000.00</td>\n",
       "      <td>535700000</td>\n",
       "      <td>2010</td>\n",
       "    </tr>\n",
       "    <tr>\n",
       "      <th>4</th>\n",
       "      <td>Shrek Forever After</td>\n",
       "      <td>P/DW</td>\n",
       "      <td>238700000.00</td>\n",
       "      <td>513900000</td>\n",
       "      <td>2010</td>\n",
       "    </tr>\n",
       "  </tbody>\n",
       "</table>\n",
       "</div>"
      ],
      "text/plain": [
       "                                         title studio  domestic_gross  \\\n",
       "0                                  Toy Story 3     BV    415000000.00   \n",
       "1                   Alice in Wonderland (2010)     BV    334200000.00   \n",
       "2  Harry Potter and the Deathly Hallows Part 1     WB    296000000.00   \n",
       "3                                    Inception     WB    292600000.00   \n",
       "4                          Shrek Forever After   P/DW    238700000.00   \n",
       "\n",
       "  foreign_gross  year  \n",
       "0     652000000  2010  \n",
       "1     691300000  2010  \n",
       "2     664300000  2010  \n",
       "3     535700000  2010  \n",
       "4     513900000  2010  "
      ]
     },
     "execution_count": 51,
     "metadata": {},
     "output_type": "execute_result"
    }
   ],
   "source": [
    "#getting information from the dataframe\n",
    "box_office.head()"
   ]
  },
  {
   "cell_type": "code",
   "execution_count": 52,
   "id": "8fe3daf2",
   "metadata": {
    "hidden": true
   },
   "outputs": [],
   "source": [
    "#Dropping duplicates from the dataframe\n",
    "box_office=box_office.drop_duplicates(subset=['title'])"
   ]
  },
  {
   "cell_type": "code",
   "execution_count": 53,
   "id": "5f49e3b4",
   "metadata": {
    "hidden": true
   },
   "outputs": [
    {
     "data": {
      "text/plain": [
       "title                0\n",
       "studio               5\n",
       "domestic_gross      28\n",
       "foreign_gross     1349\n",
       "year                 0\n",
       "dtype: int64"
      ]
     },
     "execution_count": 53,
     "metadata": {},
     "output_type": "execute_result"
    }
   ],
   "source": [
    "#checking sum of NA values per column\n",
    "box_office.isna().sum()"
   ]
  },
  {
   "cell_type": "code",
   "execution_count": 54,
   "id": "7396a416",
   "metadata": {
    "hidden": true
   },
   "outputs": [
    {
     "name": "stdout",
     "output_type": "stream",
     "text": [
      "<class 'pandas.core.frame.DataFrame'>\n",
      "Int64Index: 3386 entries, 0 to 3386\n",
      "Data columns (total 5 columns):\n",
      " #   Column          Non-Null Count  Dtype  \n",
      "---  ------          --------------  -----  \n",
      " 0   title           3386 non-null   object \n",
      " 1   studio          3381 non-null   object \n",
      " 2   domestic_gross  3358 non-null   float64\n",
      " 3   foreign_gross   2037 non-null   object \n",
      " 4   year            3386 non-null   int64  \n",
      "dtypes: float64(1), int64(1), object(3)\n",
      "memory usage: 158.7+ KB\n"
     ]
    }
   ],
   "source": [
    "box_office.info()"
   ]
  },
  {
   "cell_type": "code",
   "execution_count": 55,
   "id": "846e3e81",
   "metadata": {
    "hidden": true
   },
   "outputs": [],
   "source": [
    "#Dropping NA values from the dataframe if they are NA in the column\n",
    "box_office=box_office.dropna(subset=['studio'])\n",
    "box_office=box_office.dropna(subset=['domestic_gross'])"
   ]
  },
  {
   "cell_type": "code",
   "execution_count": 56,
   "id": "d712ff01",
   "metadata": {
    "hidden": true,
    "scrolled": true
   },
   "outputs": [],
   "source": [
    "#Changing the value type to integer for better/easier analysis\n",
    "box_office['domestic_gross']=box_office['domestic_gross'].astype(int)"
   ]
  },
  {
   "cell_type": "code",
   "execution_count": 57,
   "id": "c337a13b",
   "metadata": {
    "hidden": true
   },
   "outputs": [],
   "source": [
    "#Fill the NA values of foreign gross with 0 to not lose a great part of data\n",
    "box_office['foreign_gross']=box_office['foreign_gross'].fillna('0')"
   ]
  },
  {
   "cell_type": "code",
   "execution_count": 58,
   "id": "d03ca934",
   "metadata": {
    "hidden": true
   },
   "outputs": [],
   "source": [
    "#Changing the foreign gross value type to integer\n",
    "box_office['foreign_gross'] = box_office['foreign_gross'].replace(',', '', regex=True)\n",
    "box_office['foreign_gross'] = box_office['foreign_gross'].str.split('.').str[0]  # Remove decimal places\n",
    "box_office['foreign_gross'] = box_office['foreign_gross'].astype(int)  # Convert to integers"
   ]
  },
  {
   "cell_type": "code",
   "execution_count": 59,
   "id": "36d62ce0",
   "metadata": {
    "hidden": true
   },
   "outputs": [
    {
     "data": {
      "text/plain": [
       "title             0\n",
       "studio            0\n",
       "domestic_gross    0\n",
       "foreign_gross     0\n",
       "year              0\n",
       "dtype: int64"
      ]
     },
     "execution_count": 59,
     "metadata": {},
     "output_type": "execute_result"
    }
   ],
   "source": [
    "#checking one last time the sum of NA values per column\n",
    "box_office.isna().sum()"
   ]
  },
  {
   "cell_type": "markdown",
   "id": "c35864bf",
   "metadata": {
    "heading_collapsed": true
   },
   "source": [
    "# Data Analysis\n",
    "The objective of this analysis is to guide the company in making informed decisions regarding the initiation of our new venture into the film business. I will analyze various data files sourced from reputable and influential film websites, leveraging information including release dates, box office performance, production budgets, domestic and international revenue, among other key metrics."
   ]
  },
  {
   "cell_type": "markdown",
   "id": "3583d2c3",
   "metadata": {
    "heading_collapsed": true,
    "hidden": true
   },
   "source": [
    "### Movie Genres with the highest number of votes and rating."
   ]
  },
  {
   "cell_type": "code",
   "execution_count": 60,
   "id": "e51af6bb",
   "metadata": {
    "hidden": true
   },
   "outputs": [
    {
     "data": {
      "text/html": [
       "<div>\n",
       "<style scoped>\n",
       "    .dataframe tbody tr th:only-of-type {\n",
       "        vertical-align: middle;\n",
       "    }\n",
       "\n",
       "    .dataframe tbody tr th {\n",
       "        vertical-align: top;\n",
       "    }\n",
       "\n",
       "    .dataframe thead th {\n",
       "        text-align: right;\n",
       "    }\n",
       "</style>\n",
       "<table border=\"1\" class=\"dataframe\">\n",
       "  <thead>\n",
       "    <tr style=\"text-align: right;\">\n",
       "      <th></th>\n",
       "      <th>movie_id</th>\n",
       "      <th>title</th>\n",
       "      <th>genres</th>\n",
       "      <th>avg_rating</th>\n",
       "      <th>numvotes</th>\n",
       "      <th>region</th>\n",
       "      <th>director</th>\n",
       "      <th>start_year</th>\n",
       "      <th>mov_minutes</th>\n",
       "    </tr>\n",
       "  </thead>\n",
       "  <tbody>\n",
       "    <tr>\n",
       "      <th>0</th>\n",
       "      <td>tt7131622</td>\n",
       "      <td>Once Upon a Time ... in Hollywood</td>\n",
       "      <td>Comedy,Drama</td>\n",
       "      <td>9.70</td>\n",
       "      <td>5600</td>\n",
       "      <td>US</td>\n",
       "      <td>Quentin Tarantino</td>\n",
       "      <td>2019</td>\n",
       "      <td>159</td>\n",
       "    </tr>\n",
       "    <tr>\n",
       "      <th>2</th>\n",
       "      <td>tt7738784</td>\n",
       "      <td>Peranbu</td>\n",
       "      <td>Drama</td>\n",
       "      <td>9.40</td>\n",
       "      <td>9629</td>\n",
       "      <td>US</td>\n",
       "      <td>Ram</td>\n",
       "      <td>2018</td>\n",
       "      <td>147</td>\n",
       "    </tr>\n",
       "    <tr>\n",
       "      <th>8</th>\n",
       "      <td>tt2170667</td>\n",
       "      <td>Wheels</td>\n",
       "      <td>Drama</td>\n",
       "      <td>9.30</td>\n",
       "      <td>17308</td>\n",
       "      <td>US</td>\n",
       "      <td>Donavon Warren</td>\n",
       "      <td>2014</td>\n",
       "      <td>115</td>\n",
       "    </tr>\n",
       "    <tr>\n",
       "      <th>11</th>\n",
       "      <td>tt1375666</td>\n",
       "      <td>Inception</td>\n",
       "      <td>Action,Adventure,Sci-Fi</td>\n",
       "      <td>8.80</td>\n",
       "      <td>1841066</td>\n",
       "      <td>US</td>\n",
       "      <td>Christopher Nolan</td>\n",
       "      <td>2010</td>\n",
       "      <td>148</td>\n",
       "    </tr>\n",
       "    <tr>\n",
       "      <th>15</th>\n",
       "      <td>tt6019206</td>\n",
       "      <td>Kill Bill: The Whole Bloody Affair</td>\n",
       "      <td>Action,Crime,Thriller</td>\n",
       "      <td>8.80</td>\n",
       "      <td>3406</td>\n",
       "      <td>US</td>\n",
       "      <td>Quentin Tarantino</td>\n",
       "      <td>2011</td>\n",
       "      <td>247</td>\n",
       "    </tr>\n",
       "  </tbody>\n",
       "</table>\n",
       "</div>"
      ],
      "text/plain": [
       "     movie_id                               title                   genres  \\\n",
       "0   tt7131622   Once Upon a Time ... in Hollywood             Comedy,Drama   \n",
       "2   tt7738784                             Peranbu                    Drama   \n",
       "8   tt2170667                              Wheels                    Drama   \n",
       "11  tt1375666                           Inception  Action,Adventure,Sci-Fi   \n",
       "15  tt6019206  Kill Bill: The Whole Bloody Affair    Action,Crime,Thriller   \n",
       "\n",
       "    avg_rating  numvotes region           director  start_year  mov_minutes  \n",
       "0         9.70      5600     US  Quentin Tarantino        2019          159  \n",
       "2         9.40      9629     US                Ram        2018          147  \n",
       "8         9.30     17308     US     Donavon Warren        2014          115  \n",
       "11        8.80   1841066     US  Christopher Nolan        2010          148  \n",
       "15        8.80      3406     US  Quentin Tarantino        2011          247  "
      ]
     },
     "execution_count": 60,
     "metadata": {},
     "output_type": "execute_result"
    }
   ],
   "source": [
    "#starting with df1 dataframe\n",
    "df1.head()"
   ]
  },
  {
   "cell_type": "markdown",
   "id": "3daca651",
   "metadata": {
    "hidden": true
   },
   "source": [
    "Filtering the average rating of movies to be higher than 4, and the number of votes a movie has to be over 10,000."
   ]
  },
  {
   "cell_type": "code",
   "execution_count": 61,
   "id": "2eb3bda9",
   "metadata": {
    "hidden": true,
    "scrolled": true
   },
   "outputs": [],
   "source": [
    "#updating the dataframe to the filters required\n",
    "df1=df1[(df1['avg_rating'] > 4 ) & (df1['numvotes'] > 10000)]"
   ]
  },
  {
   "cell_type": "markdown",
   "id": "7b6adc96",
   "metadata": {
    "hidden": true
   },
   "source": [
    "Creating a variable that will group by genres the average rating of the movies and show its statistical measures"
   ]
  },
  {
   "cell_type": "code",
   "execution_count": 62,
   "id": "398f3224",
   "metadata": {
    "hidden": true,
    "scrolled": false
   },
   "outputs": [
    {
     "data": {
      "text/html": [
       "<div>\n",
       "<style scoped>\n",
       "    .dataframe tbody tr th:only-of-type {\n",
       "        vertical-align: middle;\n",
       "    }\n",
       "\n",
       "    .dataframe tbody tr th {\n",
       "        vertical-align: top;\n",
       "    }\n",
       "\n",
       "    .dataframe thead tr th {\n",
       "        text-align: left;\n",
       "    }\n",
       "\n",
       "    .dataframe thead tr:last-of-type th {\n",
       "        text-align: right;\n",
       "    }\n",
       "</style>\n",
       "<table border=\"1\" class=\"dataframe\">\n",
       "  <thead>\n",
       "    <tr>\n",
       "      <th></th>\n",
       "      <th colspan=\"3\" halign=\"left\">avg_rating</th>\n",
       "    </tr>\n",
       "    <tr>\n",
       "      <th></th>\n",
       "      <th>count</th>\n",
       "      <th>median</th>\n",
       "      <th>mean</th>\n",
       "    </tr>\n",
       "    <tr>\n",
       "      <th>genres</th>\n",
       "      <th></th>\n",
       "      <th></th>\n",
       "      <th></th>\n",
       "    </tr>\n",
       "  </thead>\n",
       "  <tbody>\n",
       "    <tr>\n",
       "      <th>Comedy,Drama,Romance</th>\n",
       "      <td>97</td>\n",
       "      <td>6.50</td>\n",
       "      <td>6.48</td>\n",
       "    </tr>\n",
       "    <tr>\n",
       "      <th>Comedy,Drama</th>\n",
       "      <td>88</td>\n",
       "      <td>6.70</td>\n",
       "      <td>6.69</td>\n",
       "    </tr>\n",
       "    <tr>\n",
       "      <th>Drama</th>\n",
       "      <td>71</td>\n",
       "      <td>7.20</td>\n",
       "      <td>7.12</td>\n",
       "    </tr>\n",
       "    <tr>\n",
       "      <th>Adventure,Animation,Comedy</th>\n",
       "      <td>69</td>\n",
       "      <td>6.70</td>\n",
       "      <td>6.64</td>\n",
       "    </tr>\n",
       "    <tr>\n",
       "      <th>Drama,Romance</th>\n",
       "      <td>61</td>\n",
       "      <td>6.80</td>\n",
       "      <td>6.84</td>\n",
       "    </tr>\n",
       "    <tr>\n",
       "      <th>Comedy,Romance</th>\n",
       "      <td>58</td>\n",
       "      <td>6.10</td>\n",
       "      <td>6.08</td>\n",
       "    </tr>\n",
       "    <tr>\n",
       "      <th>Action,Adventure,Sci-Fi</th>\n",
       "      <td>56</td>\n",
       "      <td>6.90</td>\n",
       "      <td>6.82</td>\n",
       "    </tr>\n",
       "    <tr>\n",
       "      <th>Action,Crime,Drama</th>\n",
       "      <td>56</td>\n",
       "      <td>6.50</td>\n",
       "      <td>6.48</td>\n",
       "    </tr>\n",
       "    <tr>\n",
       "      <th>Comedy</th>\n",
       "      <td>54</td>\n",
       "      <td>6.00</td>\n",
       "      <td>5.98</td>\n",
       "    </tr>\n",
       "    <tr>\n",
       "      <th>Horror,Mystery,Thriller</th>\n",
       "      <td>51</td>\n",
       "      <td>5.80</td>\n",
       "      <td>5.82</td>\n",
       "    </tr>\n",
       "    <tr>\n",
       "      <th>Horror,Thriller</th>\n",
       "      <td>42</td>\n",
       "      <td>5.70</td>\n",
       "      <td>5.65</td>\n",
       "    </tr>\n",
       "    <tr>\n",
       "      <th>Crime,Drama,Thriller</th>\n",
       "      <td>36</td>\n",
       "      <td>6.65</td>\n",
       "      <td>6.60</td>\n",
       "    </tr>\n",
       "    <tr>\n",
       "      <th>Action,Crime,Thriller</th>\n",
       "      <td>33</td>\n",
       "      <td>6.50</td>\n",
       "      <td>6.40</td>\n",
       "    </tr>\n",
       "    <tr>\n",
       "      <th>Drama,Thriller</th>\n",
       "      <td>29</td>\n",
       "      <td>6.50</td>\n",
       "      <td>6.51</td>\n",
       "    </tr>\n",
       "    <tr>\n",
       "      <th>Documentary</th>\n",
       "      <td>19</td>\n",
       "      <td>7.60</td>\n",
       "      <td>7.32</td>\n",
       "    </tr>\n",
       "  </tbody>\n",
       "</table>\n",
       "</div>"
      ],
      "text/plain": [
       "                           avg_rating            \n",
       "                                count median mean\n",
       "genres                                           \n",
       "Comedy,Drama,Romance               97   6.50 6.48\n",
       "Comedy,Drama                       88   6.70 6.69\n",
       "Drama                              71   7.20 7.12\n",
       "Adventure,Animation,Comedy         69   6.70 6.64\n",
       "Drama,Romance                      61   6.80 6.84\n",
       "Comedy,Romance                     58   6.10 6.08\n",
       "Action,Adventure,Sci-Fi            56   6.90 6.82\n",
       "Action,Crime,Drama                 56   6.50 6.48\n",
       "Comedy                             54   6.00 5.98\n",
       "Horror,Mystery,Thriller            51   5.80 5.82\n",
       "Horror,Thriller                    42   5.70 5.65\n",
       "Crime,Drama,Thriller               36   6.65 6.60\n",
       "Action,Crime,Thriller              33   6.50 6.40\n",
       "Drama,Thriller                     29   6.50 6.51\n",
       "Documentary                        19   7.60 7.32"
      ]
     },
     "execution_count": 62,
     "metadata": {},
     "output_type": "execute_result"
    }
   ],
   "source": [
    "#Using groupby function with aggregation of stat measures.\n",
    "rating_by_genre=df1[['genres', 'avg_rating']].groupby(['genres']).agg(['count', 'median', 'mean'])\n",
    "rating_by_genre = rating_by_genre.sort_values(by=('avg_rating', 'count'), ascending=False) #Sort by rating mean in descending order\n",
    "rating_by_genre"
   ]
  },
  {
   "cell_type": "code",
   "execution_count": 63,
   "id": "daf66c2d",
   "metadata": {
    "hidden": true,
    "scrolled": false
   },
   "outputs": [
    {
     "data": {
      "text/plain": [
       "count   820.00\n",
       "mean      6.50\n",
       "std       0.86\n",
       "min       4.10\n",
       "25%       5.90\n",
       "50%       6.50\n",
       "75%       7.10\n",
       "max       9.30\n",
       "Name: avg_rating, dtype: float64"
      ]
     },
     "execution_count": 63,
     "metadata": {},
     "output_type": "execute_result"
    }
   ],
   "source": [
    "df1['avg_rating'].describe()"
   ]
  },
  {
   "cell_type": "markdown",
   "id": "1a0f70d3",
   "metadata": {
    "hidden": true
   },
   "source": [
    "The mean of the average rating is 6.5 points, denoted by the horizontal dashed red line displayed on the graph below. Additionally, for my analysis, I will only consider genre categories with a count of 39 or more movies as significant, marked by the x-values above the red line in the graph below."
   ]
  },
  {
   "cell_type": "code",
   "execution_count": 128,
   "id": "e1705e8e",
   "metadata": {
    "hidden": true,
    "scrolled": true
   },
   "outputs": [
    {
     "data": {
      "image/png": "[encoded data removed]",
      "text/plain": [
       "<Figure size 1224x504 with 1 Axes>"
      ]
     },
     "metadata": {
      "needs_background": "light"
     },
     "output_type": "display_data"
    },
    {
     "data": {
      "text/plain": [
       "<Figure size 432x288 with 0 Axes>"
      ]
     },
     "metadata": {},
     "output_type": "display_data"
    }
   ],
   "source": [
    "#plotting the line chart\n",
    "fig, ax = plt.subplots(figsize=(17, 7))\n",
    "rating_by_genre['avg_rating']['mean'].plot(kind='line', marker='o', ax=ax)\n",
    "\n",
    "#labels to the markers indicating the count of values\n",
    "for i, genre in enumerate(rating_by_genre.index):\n",
    "    count = rating_by_genre['avg_rating']['count'][i]\n",
    "    ax.annotate(str(count), (i, rating_by_genre['avg_rating']['mean'][i]), xytext=(0, 10),\n",
    "                textcoords='offset points', ha='center', fontsize=8)\n",
    "\n",
    "    # highlight markers with y value at or over 6.5\n",
    "    if rating_by_genre['avg_rating']['mean'][i] >= 6.5:\n",
    "        ax.plot(i, rating_by_genre['avg_rating']['mean'][i], marker='o', color='green')\n",
    "        \n",
    "#add a horizontal line at y=6.5\n",
    "ax.axhline(y=6.5, color='red', linestyle='--', label='Average Rating at y=6.5')\n",
    "\n",
    "#set the labels and title\n",
    "ax.set_title(\"Movie Genre vs Rating\")\n",
    "ax.set_xlabel(\"Movie Genres\")\n",
    "ax.set_ylabel(\"Average Rating\")\n",
    "\n",
    "#add a legend\n",
    "ax.legend(['Number of Movies per Genre', 'Average Rating is 6.5 or higher'])\n",
    "\n",
    "#display the plot\n",
    "plt.show()\n",
    "\n",
    "#save plot\n",
    "plt.savefig(\"./Graphs/line_rating_genre.png\", dpi=150)"
   ]
  },
  {
   "cell_type": "markdown",
   "id": "dec87808",
   "metadata": {
    "hidden": true
   },
   "source": [
    "The graph shows that the most significant Movie Genres with the highest number of Votes as well as having the highest ratings are Comedy, Drama, Romance, Action, Adventure and Sci-Fi."
   ]
  },
  {
   "cell_type": "markdown",
   "id": "ccf6a7fd",
   "metadata": {
    "hidden": true
   },
   "source": [
    "I will use the average number of votes to make predictions based on it."
   ]
  },
  {
   "cell_type": "code",
   "execution_count": 65,
   "id": "9e60eaab",
   "metadata": {
    "hidden": true,
    "scrolled": false
   },
   "outputs": [
    {
     "name": "stdout",
     "output_type": "stream",
     "text": [
      "95108.0243902439\n"
     ]
    }
   ],
   "source": [
    "mean_value = df1['numvotes'].mean()\n",
    "print(mean_value)"
   ]
  },
  {
   "cell_type": "markdown",
   "id": "1a43f127",
   "metadata": {
    "hidden": true
   },
   "source": [
    "Looking for movies with a mean of over 95,000 number of votes.\\\n",
    "I will be grouping the genres by the count, median and mean of the number of votes those movies got to get a viualization from this statistical summary."
   ]
  },
  {
   "cell_type": "code",
   "execution_count": 66,
   "id": "ee1dbc78",
   "metadata": {
    "hidden": true,
    "scrolled": true
   },
   "outputs": [],
   "source": [
    "#grouping the genres and numvotes columns as votes by genre\n",
    "votes_by_genre=df1[['genres', 'numvotes']].groupby(['genres']).agg(['count', 'median', 'mean'])\n",
    "votes_by_genre = votes_by_genre.sort_values(by=('numvotes', 'mean'), ascending=False) #descencing order needed"
   ]
  },
  {
   "cell_type": "code",
   "execution_count": 115,
   "id": "bfa07248",
   "metadata": {
    "hidden": true,
    "scrolled": false
   },
   "outputs": [
    {
     "data": {
      "image/png": "[encoded data removed]",
      "text/plain": [
       "<Figure size 1296x432 with 1 Axes>"
      ]
     },
     "metadata": {
      "needs_background": "light"
     },
     "output_type": "display_data"
    },
    {
     "data": {
      "text/plain": [
       "<Figure size 432x288 with 0 Axes>"
      ]
     },
     "metadata": {},
     "output_type": "display_data"
    }
   ],
   "source": [
    "#creating the line plot\n",
    "votes_by_genre_plot = votes_by_genre['numvotes']['mean'].plot(kind='line', marker='o', figsize=(18, 6))\n",
    "\n",
    "#set the title, xlabel, and ylabel\n",
    "votes_by_genre_plot.set_title(\"Most watched Movie Genres based on IMDB Number of Votes\")\n",
    "votes_by_genre_plot.set_xlabel(\"Movie Genres\")\n",
    "votes_by_genre_plot.set_ylabel(\"Number of Votes Count\")\n",
    "\n",
    "#add the horizontal line\n",
    "votes_by_genre_plot.axhline(y=95000, color='red', linestyle='--')\n",
    "\n",
    "#highlight the marker if y value is over 130,000 and label the markers\n",
    "for x, y in zip(votes_by_genre_plot.get_lines()[0].get_xdata(), votes_by_genre_plot.get_lines()[0].get_ydata()):\n",
    "    if y > 95000:\n",
    "        votes_by_genre_plot.plot(x, y, marker='o', markersize=10, color='red')\n",
    "        votes_by_genre_plot.annotate(str(round(y)), (x, y), xytext=(0, 10), textcoords='offset points', ha='center')\n",
    "\n",
    "plt.show()\n",
    "\n",
    "#save plot\n",
    "plt.savefig(\"./Graphs/line_votes_genre.png\", dpi=150)"
   ]
  },
  {
   "cell_type": "markdown",
   "id": "b9d56999",
   "metadata": {
    "hidden": true
   },
   "source": [
    "The most watched movies, based on the number of votes received, include Action, Adventure, Sci-Fi, Animation, Comedy, and Drama. This aligns with our earlier finding regarding movie ratings across genres. The connection indicates that people responds to the themes in these genres, showing why they're so popular and loved by many."
   ]
  },
  {
   "cell_type": "markdown",
   "id": "37fe7223",
   "metadata": {
    "heading_collapsed": true,
    "hidden": true
   },
   "source": [
    "### Best Months of the Year to release Movies\n",
    "Using box-office ticket data sourced from the Rotten Tomatoes database, my analysis has pinpointed the optimal months for releasing movies, taking into consideration both hot and cold seasons."
   ]
  },
  {
   "cell_type": "code",
   "execution_count": 68,
   "id": "ba31685b",
   "metadata": {
    "hidden": true,
    "scrolled": true
   },
   "outputs": [
    {
     "data": {
      "text/html": [
       "<div>\n",
       "<style scoped>\n",
       "    .dataframe tbody tr th:only-of-type {\n",
       "        vertical-align: middle;\n",
       "    }\n",
       "\n",
       "    .dataframe tbody tr th {\n",
       "        vertical-align: top;\n",
       "    }\n",
       "\n",
       "    .dataframe thead th {\n",
       "        text-align: right;\n",
       "    }\n",
       "</style>\n",
       "<table border=\"1\" class=\"dataframe\">\n",
       "  <thead>\n",
       "    <tr style=\"text-align: right;\">\n",
       "      <th></th>\n",
       "      <th>id</th>\n",
       "      <th>rating</th>\n",
       "      <th>genre</th>\n",
       "      <th>director</th>\n",
       "      <th>box_office</th>\n",
       "      <th>runtime</th>\n",
       "      <th>studio</th>\n",
       "      <th>theater_month</th>\n",
       "      <th>theater_year</th>\n",
       "    </tr>\n",
       "  </thead>\n",
       "  <tbody>\n",
       "    <tr>\n",
       "      <th>1</th>\n",
       "      <td>3</td>\n",
       "      <td>R</td>\n",
       "      <td>Drama|Science Fiction and Fantasy</td>\n",
       "      <td>David Cronenberg</td>\n",
       "      <td>600000</td>\n",
       "      <td>108</td>\n",
       "      <td>Entertainment One</td>\n",
       "      <td>8</td>\n",
       "      <td>2012</td>\n",
       "    </tr>\n",
       "    <tr>\n",
       "      <th>6</th>\n",
       "      <td>10</td>\n",
       "      <td>PG-13</td>\n",
       "      <td>Comedy</td>\n",
       "      <td>Jake Kasdan</td>\n",
       "      <td>41032915</td>\n",
       "      <td>82</td>\n",
       "      <td>Paramount Pictures</td>\n",
       "      <td>1</td>\n",
       "      <td>2002</td>\n",
       "    </tr>\n",
       "    <tr>\n",
       "      <th>7</th>\n",
       "      <td>13</td>\n",
       "      <td>R</td>\n",
       "      <td>Drama</td>\n",
       "      <td>Ray Lawrence</td>\n",
       "      <td>224114</td>\n",
       "      <td>123</td>\n",
       "      <td>Sony Pictures Classics</td>\n",
       "      <td>4</td>\n",
       "      <td>2006</td>\n",
       "    </tr>\n",
       "    <tr>\n",
       "      <th>8</th>\n",
       "      <td>14</td>\n",
       "      <td>R</td>\n",
       "      <td>Drama</td>\n",
       "      <td>Taylor Hackford</td>\n",
       "      <td>134904</td>\n",
       "      <td>117</td>\n",
       "      <td>Not Available</td>\n",
       "      <td>6</td>\n",
       "      <td>2010</td>\n",
       "    </tr>\n",
       "    <tr>\n",
       "      <th>15</th>\n",
       "      <td>22</td>\n",
       "      <td>R</td>\n",
       "      <td>Comedy|Drama|Mystery and Suspense</td>\n",
       "      <td>George Hickenlooper</td>\n",
       "      <td>1039869</td>\n",
       "      <td>108</td>\n",
       "      <td>ATO Pictures</td>\n",
       "      <td>12</td>\n",
       "      <td>2010</td>\n",
       "    </tr>\n",
       "  </tbody>\n",
       "</table>\n",
       "</div>"
      ],
      "text/plain": [
       "    id rating                              genre             director  \\\n",
       "1    3      R  Drama|Science Fiction and Fantasy     David Cronenberg   \n",
       "6   10  PG-13                             Comedy          Jake Kasdan   \n",
       "7   13      R                              Drama         Ray Lawrence   \n",
       "8   14      R                              Drama      Taylor Hackford   \n",
       "15  22      R  Comedy|Drama|Mystery and Suspense  George Hickenlooper   \n",
       "\n",
       "    box_office  runtime                  studio  theater_month  theater_year  \n",
       "1       600000      108       Entertainment One              8          2012  \n",
       "6     41032915       82      Paramount Pictures              1          2002  \n",
       "7       224114      123  Sony Pictures Classics              4          2006  \n",
       "8       134904      117           Not Available              6          2010  \n",
       "15     1039869      108            ATO Pictures             12          2010  "
      ]
     },
     "execution_count": 68,
     "metadata": {},
     "output_type": "execute_result"
    }
   ],
   "source": [
    "#getting a look into the dataframe\n",
    "rt_info.head()"
   ]
  },
  {
   "cell_type": "code",
   "execution_count": 69,
   "id": "bfb16036",
   "metadata": {
    "hidden": true,
    "scrolled": true
   },
   "outputs": [
    {
     "name": "stdout",
     "output_type": "stream",
     "text": [
      "<class 'pandas.core.frame.DataFrame'>\n",
      "Int64Index: 310 entries, 1 to 1555\n",
      "Data columns (total 9 columns):\n",
      " #   Column         Non-Null Count  Dtype \n",
      "---  ------         --------------  ----- \n",
      " 0   id             310 non-null    int64 \n",
      " 1   rating         310 non-null    object\n",
      " 2   genre          310 non-null    object\n",
      " 3   director       310 non-null    object\n",
      " 4   box_office     310 non-null    int64 \n",
      " 5   runtime        310 non-null    int64 \n",
      " 6   studio         310 non-null    object\n",
      " 7   theater_month  310 non-null    int64 \n",
      " 8   theater_year   310 non-null    int64 \n",
      "dtypes: int64(5), object(4)\n",
      "memory usage: 24.2+ KB\n"
     ]
    }
   ],
   "source": [
    "#starting with 310 rows of data\n",
    "rt_info.info()"
   ]
  },
  {
   "cell_type": "markdown",
   "id": "d02d7028",
   "metadata": {
    "hidden": true
   },
   "source": [
    "Checking the measures of central tendencies of the \"box_office\" column to make predictions on how to move forward with the analysis of these data files.\n"
   ]
  },
  {
   "cell_type": "code",
   "execution_count": 70,
   "id": "d5429182",
   "metadata": {
    "hidden": true,
    "scrolled": false
   },
   "outputs": [
    {
     "data": {
      "text/plain": [
       "count         310.00\n",
       "mean     40370465.81\n",
       "std      58962397.34\n",
       "min          2367.00\n",
       "25%       2861585.00\n",
       "50%      15671532.50\n",
       "75%      52835541.25\n",
       "max     368000000.00\n",
       "Name: box_office, dtype: float64"
      ]
     },
     "execution_count": 70,
     "metadata": {},
     "output_type": "execute_result"
    }
   ],
   "source": [
    "#getting the average return on box_office values\n",
    "rt_info['box_office'].describe()"
   ]
  },
  {
   "cell_type": "markdown",
   "id": "2e3566d6",
   "metadata": {
    "hidden": true
   },
   "source": [
    "When dealing with a dataset that has a large standard deviation, the choice of mean can be influenced by the presence of outliers or skewed data. As seen on the box plot below. \\\n",
    "Box Plot of the distribution of values in the column \"box office\". Highlighted in read are the outliers."
   ]
  },
  {
   "cell_type": "code",
   "execution_count": 126,
   "id": "73a4a27d",
   "metadata": {
    "hidden": true,
    "scrolled": true
   },
   "outputs": [
    {
     "data": {
      "image/png": "[encoded data removed]",
      "text/plain": [
       "<Figure size 432x288 with 1 Axes>"
      ]
     },
     "metadata": {
      "needs_background": "light"
     },
     "output_type": "display_data"
    },
    {
     "data": {
      "text/plain": [
       "<Figure size 432x288 with 0 Axes>"
      ]
     },
     "metadata": {},
     "output_type": "display_data"
    }
   ],
   "source": [
    "#box plot with highlighted outliers\n",
    "plt.boxplot(rt_info['box_office'], flierprops=dict(marker='o', markerfacecolor='red', markersize=8))\n",
    "plt.ylabel('Box Office')\n",
    "plt.title('Box Plot of Box Office tickets sold')\n",
    "plt.show()\n",
    "\n",
    "#save plot\n",
    "plt.savefig(\"./Graphs/boxoffice_plot.png\", dpi=150)"
   ]
  },
  {
   "cell_type": "markdown",
   "id": "aea5a34e",
   "metadata": {
    "hidden": true
   },
   "source": [
    "Checking for the distribution of the data, asummning from the box plot that is not normally distributed.\n",
    "\n",
    "From the graphs below, the distribution is skewed to the right. This means that the majority of the data is concentrated towards the lower values, with a long tail extending towards the higher values.\n",
    "This type of distribution is a right-skewed distribution. \n",
    "\n",
    "I will confirm if the distribution is indeed skewed using the skew() function in pandas."
   ]
  },
  {
   "cell_type": "code",
   "execution_count": 125,
   "id": "35e9b28e",
   "metadata": {
    "hidden": true
   },
   "outputs": [
    {
     "data": {
      "image/png": "[encoded data removed]",
      "text/plain": [
       "<Figure size 720x360 with 2 Axes>"
      ]
     },
     "metadata": {
      "needs_background": "light"
     },
     "output_type": "display_data"
    },
    {
     "data": {
      "text/plain": [
       "<Figure size 432x288 with 0 Axes>"
      ]
     },
     "metadata": {},
     "output_type": "display_data"
    }
   ],
   "source": [
    "#creating a figure with two subplots\n",
    "fig, axes = plt.subplots(1, 2, figsize=(10, 5))\n",
    "\n",
    "#Plotting the KDE plot on the first subplot\n",
    "sns.kdeplot(rt_info['box_office'], ax=axes[0])\n",
    "axes[0].set_xlabel('Box Office')\n",
    "axes[0].set_ylabel('Density')\n",
    "axes[0].set_title('Kernel Density Estimation Plot of Box Office')\n",
    "\n",
    "#Plotting the histogram on the second subplot\n",
    "axes[1].hist(rt_info['box_office'], bins=10)\n",
    "axes[1].set_xlabel('Box Office')\n",
    "axes[1].set_ylabel('Frequency')\n",
    "axes[1].set_title('Histogram of Box Office tickets sold')\n",
    "\n",
    "#adjusting the spacing between subplots\n",
    "plt.tight_layout()\n",
    "\n",
    "#show the figure\n",
    "plt.show()\n",
    "#Save plot\n",
    "plt.savefig(\"./Graphs/rec2skew.png\", dpi=150)"
   ]
  },
  {
   "cell_type": "code",
   "execution_count": 73,
   "id": "a063f78b",
   "metadata": {
    "hidden": true
   },
   "outputs": [
    {
     "name": "stdout",
     "output_type": "stream",
     "text": [
      "The distribution is positively skewed.\n"
     ]
    }
   ],
   "source": [
    "#checking for skewness with skew function\n",
    "skewness = rt_info['box_office'].skew()\n",
    "\n",
    "if skewness > 0:\n",
    "    print(\"The distribution is positively skewed.\")\n",
    "elif skewness < 0:\n",
    "    print(\"The distribution is negatively skewed.\")\n",
    "else:\n",
    "    print(\"The distribution is approximately symmetric.\")"
   ]
  },
  {
   "cell_type": "markdown",
   "id": "52dcb5a1",
   "metadata": {
    "hidden": true
   },
   "source": [
    "In this scenario, it's advisable to utilize the median as a measure of central tendency rather than the mean. With the median (50th percentile) for the \"box_office\" column calculated at 15,671,532.50, it appears to be a more suitable metric for central tendency in this context."
   ]
  },
  {
   "cell_type": "code",
   "execution_count": 74,
   "id": "6eb8f1c1",
   "metadata": {
    "hidden": true,
    "scrolled": false
   },
   "outputs": [
    {
     "data": {
      "text/html": [
       "<div>\n",
       "<style scoped>\n",
       "    .dataframe tbody tr th:only-of-type {\n",
       "        vertical-align: middle;\n",
       "    }\n",
       "\n",
       "    .dataframe tbody tr th {\n",
       "        vertical-align: top;\n",
       "    }\n",
       "\n",
       "    .dataframe thead th {\n",
       "        text-align: right;\n",
       "    }\n",
       "</style>\n",
       "<table border=\"1\" class=\"dataframe\">\n",
       "  <thead>\n",
       "    <tr style=\"text-align: right;\">\n",
       "      <th></th>\n",
       "      <th>id</th>\n",
       "      <th>rating</th>\n",
       "      <th>genre</th>\n",
       "      <th>director</th>\n",
       "      <th>box_office</th>\n",
       "      <th>runtime</th>\n",
       "      <th>studio</th>\n",
       "      <th>theater_month</th>\n",
       "      <th>theater_year</th>\n",
       "    </tr>\n",
       "  </thead>\n",
       "  <tbody>\n",
       "    <tr>\n",
       "      <th>6</th>\n",
       "      <td>10</td>\n",
       "      <td>PG-13</td>\n",
       "      <td>Comedy</td>\n",
       "      <td>Jake Kasdan</td>\n",
       "      <td>41032915</td>\n",
       "      <td>82</td>\n",
       "      <td>Paramount Pictures</td>\n",
       "      <td>1</td>\n",
       "      <td>2002</td>\n",
       "    </tr>\n",
       "    <tr>\n",
       "      <th>16</th>\n",
       "      <td>23</td>\n",
       "      <td>R</td>\n",
       "      <td>Drama</td>\n",
       "      <td>Not Available</td>\n",
       "      <td>99165609</td>\n",
       "      <td>129</td>\n",
       "      <td>Sony Pictures</td>\n",
       "      <td>12</td>\n",
       "      <td>2013</td>\n",
       "    </tr>\n",
       "    <tr>\n",
       "      <th>18</th>\n",
       "      <td>25</td>\n",
       "      <td>PG-13</td>\n",
       "      <td>Action and Adventure|Drama|Science Fiction and...</td>\n",
       "      <td>Carl Erik Rinsch</td>\n",
       "      <td>20518224</td>\n",
       "      <td>127</td>\n",
       "      <td>Universal Pictures</td>\n",
       "      <td>12</td>\n",
       "      <td>2013</td>\n",
       "    </tr>\n",
       "    <tr>\n",
       "      <th>44</th>\n",
       "      <td>57</td>\n",
       "      <td>R</td>\n",
       "      <td>Comedy</td>\n",
       "      <td>Not Available</td>\n",
       "      <td>132088910</td>\n",
       "      <td>122</td>\n",
       "      <td>The Weinstein Company</td>\n",
       "      <td>11</td>\n",
       "      <td>2012</td>\n",
       "    </tr>\n",
       "    <tr>\n",
       "      <th>48</th>\n",
       "      <td>61</td>\n",
       "      <td>R</td>\n",
       "      <td>Action and Adventure|Drama|Horror|Mystery and ...</td>\n",
       "      <td>James Wong</td>\n",
       "      <td>54100000</td>\n",
       "      <td>93</td>\n",
       "      <td>New Line Cinema</td>\n",
       "      <td>2</td>\n",
       "      <td>2006</td>\n",
       "    </tr>\n",
       "  </tbody>\n",
       "</table>\n",
       "</div>"
      ],
      "text/plain": [
       "    id rating                                              genre  \\\n",
       "6   10  PG-13                                             Comedy   \n",
       "16  23      R                                              Drama   \n",
       "18  25  PG-13  Action and Adventure|Drama|Science Fiction and...   \n",
       "44  57      R                                             Comedy   \n",
       "48  61      R  Action and Adventure|Drama|Horror|Mystery and ...   \n",
       "\n",
       "            director  box_office  runtime                 studio  \\\n",
       "6        Jake Kasdan    41032915       82     Paramount Pictures   \n",
       "16     Not Available    99165609      129          Sony Pictures   \n",
       "18  Carl Erik Rinsch    20518224      127     Universal Pictures   \n",
       "44     Not Available   132088910      122  The Weinstein Company   \n",
       "48        James Wong    54100000       93        New Line Cinema   \n",
       "\n",
       "    theater_month  theater_year  \n",
       "6               1          2002  \n",
       "16             12          2013  \n",
       "18             12          2013  \n",
       "44             11          2012  \n",
       "48              2          2006  "
      ]
     },
     "execution_count": 74,
     "metadata": {},
     "output_type": "execute_result"
    }
   ],
   "source": [
    "#filtering the dataframe to rows where the bpx_office return/value is over 15,671,533 (median)\n",
    "filtered_rt_info=rt_info[rt_info['box_office']>15671533]\n",
    "filtered_rt_info.head()"
   ]
  },
  {
   "cell_type": "code",
   "execution_count": 75,
   "id": "ee6272e9",
   "metadata": {
    "hidden": true
   },
   "outputs": [
    {
     "data": {
      "text/html": [
       "<div>\n",
       "<style scoped>\n",
       "    .dataframe tbody tr th:only-of-type {\n",
       "        vertical-align: middle;\n",
       "    }\n",
       "\n",
       "    .dataframe tbody tr th {\n",
       "        vertical-align: top;\n",
       "    }\n",
       "\n",
       "    .dataframe thead tr th {\n",
       "        text-align: left;\n",
       "    }\n",
       "\n",
       "    .dataframe thead tr:last-of-type th {\n",
       "        text-align: right;\n",
       "    }\n",
       "</style>\n",
       "<table border=\"1\" class=\"dataframe\">\n",
       "  <thead>\n",
       "    <tr>\n",
       "      <th></th>\n",
       "      <th colspan=\"3\" halign=\"left\">box_office</th>\n",
       "    </tr>\n",
       "    <tr>\n",
       "      <th></th>\n",
       "      <th>count</th>\n",
       "      <th>median</th>\n",
       "      <th>mean</th>\n",
       "    </tr>\n",
       "    <tr>\n",
       "      <th>theater_month</th>\n",
       "      <th></th>\n",
       "      <th></th>\n",
       "      <th></th>\n",
       "    </tr>\n",
       "  </thead>\n",
       "  <tbody>\n",
       "    <tr>\n",
       "      <th>5</th>\n",
       "      <td>6</td>\n",
       "      <td>149188962.50</td>\n",
       "      <td>143541295.00</td>\n",
       "    </tr>\n",
       "    <tr>\n",
       "      <th>11</th>\n",
       "      <td>13</td>\n",
       "      <td>114053579.00</td>\n",
       "      <td>113689145.23</td>\n",
       "    </tr>\n",
       "    <tr>\n",
       "      <th>6</th>\n",
       "      <td>12</td>\n",
       "      <td>112643724.50</td>\n",
       "      <td>107517289.75</td>\n",
       "    </tr>\n",
       "    <tr>\n",
       "      <th>4</th>\n",
       "      <td>8</td>\n",
       "      <td>44391316.00</td>\n",
       "      <td>87185449.25</td>\n",
       "    </tr>\n",
       "    <tr>\n",
       "      <th>7</th>\n",
       "      <td>12</td>\n",
       "      <td>69502160.00</td>\n",
       "      <td>85657780.50</td>\n",
       "    </tr>\n",
       "    <tr>\n",
       "      <th>2</th>\n",
       "      <td>15</td>\n",
       "      <td>35003216.00</td>\n",
       "      <td>77898298.20</td>\n",
       "    </tr>\n",
       "    <tr>\n",
       "      <th>12</th>\n",
       "      <td>23</td>\n",
       "      <td>66580191.00</td>\n",
       "      <td>76973102.57</td>\n",
       "    </tr>\n",
       "    <tr>\n",
       "      <th>1</th>\n",
       "      <td>11</td>\n",
       "      <td>41032915.00</td>\n",
       "      <td>59157416.55</td>\n",
       "    </tr>\n",
       "    <tr>\n",
       "      <th>10</th>\n",
       "      <td>18</td>\n",
       "      <td>40025531.50</td>\n",
       "      <td>57130108.33</td>\n",
       "    </tr>\n",
       "    <tr>\n",
       "      <th>3</th>\n",
       "      <td>10</td>\n",
       "      <td>50956992.00</td>\n",
       "      <td>54607478.80</td>\n",
       "    </tr>\n",
       "    <tr>\n",
       "      <th>8</th>\n",
       "      <td>13</td>\n",
       "      <td>33886034.00</td>\n",
       "      <td>52670915.92</td>\n",
       "    </tr>\n",
       "    <tr>\n",
       "      <th>9</th>\n",
       "      <td>14</td>\n",
       "      <td>36836599.00</td>\n",
       "      <td>38722587.86</td>\n",
       "    </tr>\n",
       "  </tbody>\n",
       "</table>\n",
       "</div>"
      ],
      "text/plain": [
       "              box_office                          \n",
       "                   count       median         mean\n",
       "theater_month                                     \n",
       "5                      6 149188962.50 143541295.00\n",
       "11                    13 114053579.00 113689145.23\n",
       "6                     12 112643724.50 107517289.75\n",
       "4                      8  44391316.00  87185449.25\n",
       "7                     12  69502160.00  85657780.50\n",
       "2                     15  35003216.00  77898298.20\n",
       "12                    23  66580191.00  76973102.57\n",
       "1                     11  41032915.00  59157416.55\n",
       "10                    18  40025531.50  57130108.33\n",
       "3                     10  50956992.00  54607478.80\n",
       "8                     13  33886034.00  52670915.92\n",
       "9                     14  36836599.00  38722587.86"
      ]
     },
     "execution_count": 75,
     "metadata": {},
     "output_type": "execute_result"
    }
   ],
   "source": [
    "#Using groupby function with aggregation of stat measures.\n",
    "grouped_rtinfo=filtered_rt_info[['theater_month', 'box_office']].groupby(['theater_month']).agg(['count', 'median', 'mean'])\n",
    "grouped_rtinfo = grouped_rtinfo.sort_values(by=('box_office', 'mean'), ascending=False) #descencing order needed\n",
    "grouped_rtinfo"
   ]
  },
  {
   "cell_type": "code",
   "execution_count": 76,
   "id": "6195c740",
   "metadata": {
    "hidden": true
   },
   "outputs": [
    {
     "data": {
      "text/plain": [
       "75778279.89677419"
      ]
     },
     "execution_count": 76,
     "metadata": {},
     "output_type": "execute_result"
    }
   ],
   "source": [
    "#getting the mean of box office column\n",
    "filtered_rt_info['box_office'].mean()"
   ]
  },
  {
   "cell_type": "code",
   "execution_count": 124,
   "id": "38835505",
   "metadata": {
    "hidden": true
   },
   "outputs": [
    {
     "data": {
      "image/png": "[encoded data removed]",
      "text/plain": [
       "<Figure size 432x288 with 1 Axes>"
      ]
     },
     "metadata": {
      "needs_background": "light"
     },
     "output_type": "display_data"
    }
   ],
   "source": [
    "#creating a copy of the DataFrame\n",
    "filtered_rt_info = filtered_rt_info.copy()\n",
    "\n",
    "#convert theater_month column to datetime format\n",
    "filtered_rt_info.loc[:, 'theater_month'] = pd.to_datetime(filtered_rt_info['theater_month'], format='%m')\n",
    "\n",
    "#group by month and calculate the average box office\n",
    "box_office_by_month = filtered_rt_info.groupby(filtered_rt_info['theater_month'].dt.strftime('%B'))['box_office'].mean()\n",
    "\n",
    "#reindex the series to have months in the correct order\n",
    "box_office_by_month = box_office_by_month.reindex(['January', 'February', 'March', 'April', 'May', 'June', 'July', 'August', 'September', 'October', 'November', 'December'])\n",
    "\n",
    "#plot the bar graph\n",
    "box_office_by_month.plot(kind='bar')\n",
    "\n",
    "plt.xlabel('Month')\n",
    "plt.ylabel('Average Box Office')\n",
    "plt.title('Average Box Office Tickets sold by Month')\n",
    "\n",
    "#format y-axis labels as millions\n",
    "plt.ticklabel_format(axis='y', style='plain', useOffset=False, scilimits=(6, 6))\n",
    "\n",
    "#add a horizontal line at y=75778279\n",
    "plt.axhline(y=75778279, color='red', linestyle='--', label='Threshold')\n",
    "\n",
    "plt.legend()\n",
    "\n",
    "#Save plot\n",
    "plt.savefig(\"./Graphs/bargraph_month.png\", dpi=150)"
   ]
  },
  {
   "cell_type": "markdown",
   "id": "8236a262",
   "metadata": {
    "hidden": true
   },
   "source": [
    "Based on the data analysis of the dataset, the optimal months for releasing films are either April or May through July for the warm season and November-December for the cold season."
   ]
  },
  {
   "cell_type": "markdown",
   "id": "080c7b47",
   "metadata": {
    "heading_collapsed": true,
    "hidden": true
   },
   "source": [
    "### Movies as a Financial Success\n",
    "The success of a movie release is determined by whether the Gross Revenue equals or exceeds twice the movie's budget. Leveraging data from 'The Numbers,' a renowned website tracking comprehensive business information related to movies, I will provide recommendations based on this analysis."
   ]
  },
  {
   "cell_type": "markdown",
   "id": "34f4f20e",
   "metadata": {
    "hidden": true
   },
   "source": [
    "I will be using 'the numbers' data file to analyze the movies with the highest Profit."
   ]
  },
  {
   "cell_type": "code",
   "execution_count": 80,
   "id": "ddcca42b",
   "metadata": {
    "hidden": true,
    "scrolled": false
   },
   "outputs": [
    {
     "name": "stdout",
     "output_type": "stream",
     "text": [
      "<class 'pandas.core.frame.DataFrame'>\n",
      "Int64Index: 3839 entries, 0 to 5781\n",
      "Data columns (total 8 columns):\n",
      " #   Column             Non-Null Count  Dtype         \n",
      "---  ------             --------------  -----         \n",
      " 0   id                 3839 non-null   int64         \n",
      " 1   release_date       3839 non-null   datetime64[ns]\n",
      " 2   movie              3839 non-null   object        \n",
      " 3   production_budget  3839 non-null   int64         \n",
      " 4   domestic_gross     3839 non-null   int64         \n",
      " 5   worldwide_gross    3839 non-null   int64         \n",
      " 6   release_month      3839 non-null   int64         \n",
      " 7   release_year       3839 non-null   int64         \n",
      "dtypes: datetime64[ns](1), int64(6), object(1)\n",
      "memory usage: 269.9+ KB\n"
     ]
    }
   ],
   "source": [
    "#Getting the information of this dataframe\n",
    "thenumbers.info() #3,839 rows"
   ]
  },
  {
   "cell_type": "markdown",
   "id": "2f34055a",
   "metadata": {
    "hidden": true
   },
   "source": [
    "Creating a new dataframe exclusively comprising financially successful movies. This filtered dataframe retains 52% of the rows from the original dataset and will serve as the primary dataset for further data analysis."
   ]
  },
  {
   "cell_type": "code",
   "execution_count": 82,
   "id": "a23f2a0f",
   "metadata": {
    "hidden": true,
    "scrolled": true
   },
   "outputs": [
    {
     "data": {
      "text/html": [
       "<div>\n",
       "<style scoped>\n",
       "    .dataframe tbody tr th:only-of-type {\n",
       "        vertical-align: middle;\n",
       "    }\n",
       "\n",
       "    .dataframe tbody tr th {\n",
       "        vertical-align: top;\n",
       "    }\n",
       "\n",
       "    .dataframe thead th {\n",
       "        text-align: right;\n",
       "    }\n",
       "</style>\n",
       "<table border=\"1\" class=\"dataframe\">\n",
       "  <thead>\n",
       "    <tr style=\"text-align: right;\">\n",
       "      <th></th>\n",
       "      <th>id</th>\n",
       "      <th>release_date</th>\n",
       "      <th>movie</th>\n",
       "      <th>production_budget</th>\n",
       "      <th>domestic_gross</th>\n",
       "      <th>worldwide_gross</th>\n",
       "      <th>release_month</th>\n",
       "      <th>release_year</th>\n",
       "    </tr>\n",
       "  </thead>\n",
       "  <tbody>\n",
       "    <tr>\n",
       "      <th>0</th>\n",
       "      <td>1</td>\n",
       "      <td>2009-12-18</td>\n",
       "      <td>Avatar</td>\n",
       "      <td>425000000</td>\n",
       "      <td>760507625</td>\n",
       "      <td>2776345279</td>\n",
       "      <td>12</td>\n",
       "      <td>2009</td>\n",
       "    </tr>\n",
       "    <tr>\n",
       "      <th>1</th>\n",
       "      <td>2</td>\n",
       "      <td>2011-05-20</td>\n",
       "      <td>Pirates of the Caribbean: On Stranger Tides</td>\n",
       "      <td>410600000</td>\n",
       "      <td>241063875</td>\n",
       "      <td>1045663875</td>\n",
       "      <td>5</td>\n",
       "      <td>2011</td>\n",
       "    </tr>\n",
       "    <tr>\n",
       "      <th>3</th>\n",
       "      <td>4</td>\n",
       "      <td>2015-05-01</td>\n",
       "      <td>Avengers: Age of Ultron</td>\n",
       "      <td>330600000</td>\n",
       "      <td>459005868</td>\n",
       "      <td>1403013963</td>\n",
       "      <td>5</td>\n",
       "      <td>2015</td>\n",
       "    </tr>\n",
       "    <tr>\n",
       "      <th>4</th>\n",
       "      <td>5</td>\n",
       "      <td>2017-12-15</td>\n",
       "      <td>Star Wars Ep. VIII: The Last Jedi</td>\n",
       "      <td>317000000</td>\n",
       "      <td>620181382</td>\n",
       "      <td>1316721747</td>\n",
       "      <td>12</td>\n",
       "      <td>2017</td>\n",
       "    </tr>\n",
       "  </tbody>\n",
       "</table>\n",
       "</div>"
      ],
      "text/plain": [
       "   id release_date                                        movie  \\\n",
       "0   1   2009-12-18                                       Avatar   \n",
       "1   2   2011-05-20  Pirates of the Caribbean: On Stranger Tides   \n",
       "3   4   2015-05-01                      Avengers: Age of Ultron   \n",
       "4   5   2017-12-15            Star Wars Ep. VIII: The Last Jedi   \n",
       "\n",
       "   production_budget  domestic_gross  worldwide_gross  release_month  \\\n",
       "0          425000000       760507625       2776345279             12   \n",
       "1          410600000       241063875       1045663875              5   \n",
       "3          330600000       459005868       1403013963              5   \n",
       "4          317000000       620181382       1316721747             12   \n",
       "\n",
       "   release_year  \n",
       "0          2009  \n",
       "1          2011  \n",
       "3          2015  \n",
       "4          2017  "
      ]
     },
     "execution_count": 82,
     "metadata": {},
     "output_type": "execute_result"
    }
   ],
   "source": [
    "#filter the DataFrame based on the condition of only financially successful movies\n",
    "filtered_thenumbers = thenumbers[thenumbers['worldwide_gross'] >= 2 * thenumbers['production_budget']]\n",
    "filtered_thenumbers.head(4) #1,843 rows of data"
   ]
  },
  {
   "cell_type": "code",
   "execution_count": 83,
   "id": "6007a8e4",
   "metadata": {
    "hidden": true,
    "scrolled": true
   },
   "outputs": [
    {
     "data": {
      "text/plain": [
       "count         1843.00\n",
       "mean     193060398.92\n",
       "std      251252773.08\n",
       "min          71644.00\n",
       "25%       42429088.00\n",
       "50%      102404019.00\n",
       "75%      228629844.00\n",
       "max     2776345279.00\n",
       "Name: worldwide_gross, dtype: float64"
      ]
     },
     "execution_count": 83,
     "metadata": {},
     "output_type": "execute_result"
    }
   ],
   "source": [
    "#checking for stats measurements of the worlwide gross sale column\n",
    "filtered_thenumbers['worldwide_gross'].describe()"
   ]
  },
  {
   "cell_type": "markdown",
   "id": "0a95b937",
   "metadata": {
    "hidden": true
   },
   "source": [
    "When working with a dataset exhibiting a substantial standard deviation, the selection of the mean may be impacted by outliers or skewed data, as evident in the box plot below. \\\n",
    "The box plot displays the distribution of values in the \"worldwide_gross\" column, with outliers highlighted in red."
   ]
  },
  {
   "cell_type": "code",
   "execution_count": 122,
   "id": "9e9c6c2d",
   "metadata": {
    "hidden": true,
    "scrolled": true
   },
   "outputs": [
    {
     "data": {
      "image/png": "[encoded data removed]",
      "text/plain": [
       "<Figure size 432x288 with 1 Axes>"
      ]
     },
     "metadata": {
      "needs_background": "light"
     },
     "output_type": "display_data"
    },
    {
     "data": {
      "text/plain": [
       "<Figure size 432x288 with 0 Axes>"
      ]
     },
     "metadata": {},
     "output_type": "display_data"
    }
   ],
   "source": [
    "# box plot with highlighted outliers\n",
    "plt.boxplot(filtered_thenumbers['worldwide_gross'], flierprops=dict(marker='o', markerfacecolor='red', markersize=8))\n",
    "plt.ylabel('Box Office')\n",
    "plt.title('Box Plot of Box Office Revenue')\n",
    "plt.show()\n",
    "#save plot\n",
    "plt.savefig(\"./Graphs/boxplot_grossrevenue.png\", dpi=150)"
   ]
  },
  {
   "cell_type": "markdown",
   "id": "33459edd",
   "metadata": {
    "hidden": true
   },
   "source": [
    "Examining the data distribution, it appears non-normal based on the box plot. \\\n",
    "Observing the graphs below, the distribution is skewed to the right, indicating that the majority of the data is clustered towards lower values, with a lengthy tail extending towards higher values. \n",
    "This skewness signifies a right-skewed distribution. \\"
   ]
  },
  {
   "cell_type": "code",
   "execution_count": 121,
   "id": "edfb98aa",
   "metadata": {
    "hidden": true,
    "scrolled": true
   },
   "outputs": [
    {
     "data": {
      "image/png": "[encoded data removed]",
      "text/plain": [
       "<Figure size 432x288 with 1 Axes>"
      ]
     },
     "metadata": {
      "needs_background": "light"
     },
     "output_type": "display_data"
    },
    {
     "data": {
      "text/plain": [
       "<Figure size 432x288 with 0 Axes>"
      ]
     },
     "metadata": {},
     "output_type": "display_data"
    }
   ],
   "source": [
    "#create a histogram\n",
    "filtered_thenumbers['worldwide_gross'].plot(kind='hist', bins=20)\n",
    "plt.title('Distribution of Total Gross Revenue')\n",
    "plt.xlabel('Total Gross Revenue')\n",
    "plt.ylabel('Frequency')\n",
    "plt.show()\n",
    "#save plot\n",
    "plt.savefig(\"./Graphs/grossrevenue_barskew.png\", dpi=150)"
   ]
  },
  {
   "cell_type": "markdown",
   "id": "72a76887",
   "metadata": {
    "hidden": true
   },
   "source": [
    "To confirm the skewness, I'll employ the skew() function in pandas."
   ]
  },
  {
   "cell_type": "code",
   "execution_count": 86,
   "id": "65f92d05",
   "metadata": {
    "hidden": true
   },
   "outputs": [
    {
     "name": "stdout",
     "output_type": "stream",
     "text": [
      "The distribution is positively skewed.\n"
     ]
    }
   ],
   "source": [
    "#checking for skewness with skew function\n",
    "skewness = filtered_thenumbers['worldwide_gross'].skew()\n",
    "\n",
    "if skewness > 0:\n",
    "    print(\"The distribution is positively skewed.\")\n",
    "elif skewness < 0:\n",
    "    print(\"The distribution is negatively skewed.\")\n",
    "else:\n",
    "    print(\"The distribution is approximately symmetric.\")"
   ]
  },
  {
   "cell_type": "code",
   "execution_count": 89,
   "id": "ae266d6d",
   "metadata": {
    "hidden": true,
    "scrolled": false
   },
   "outputs": [
    {
     "data": {
      "text/plain": [
       "count         1843.00\n",
       "mean     193060398.92\n",
       "std      251252773.08\n",
       "min          71644.00\n",
       "25%       42429088.00\n",
       "50%      102404019.00\n",
       "75%      228629844.00\n",
       "max     2776345279.00\n",
       "Name: worldwide_gross, dtype: float64"
      ]
     },
     "execution_count": 89,
     "metadata": {},
     "output_type": "execute_result"
    }
   ],
   "source": [
    "#using describe function to get the median of worldwide gross\n",
    "filtered_thenumbers['worldwide_gross'].describe()\n",
    "#median is 102,404,019"
   ]
  },
  {
   "cell_type": "markdown",
   "id": "05d07bc2",
   "metadata": {
    "hidden": true
   },
   "source": [
    "Having observed the positively skewed distribution of the total gross, I aim to establish a positive correlation between the budget and gross revenue. This suggests that the revenue of a movie production is influenced by its budget; specifically, a higher budget tends to lead to higher revenue."
   ]
  },
  {
   "cell_type": "markdown",
   "id": "dc2aaba9",
   "metadata": {
    "hidden": true
   },
   "source": [
    "Creating a Scatter Plot with a line of best fit to show positive correlation between budget and gross revenue."
   ]
  },
  {
   "cell_type": "code",
   "execution_count": 123,
   "id": "4e6a1f44",
   "metadata": {
    "hidden": true,
    "scrolled": false
   },
   "outputs": [
    {
     "data": {
      "image/png": "[encoded data removed]",
      "text/plain": [
       "<Figure size 432x288 with 1 Axes>"
      ]
     },
     "metadata": {
      "needs_background": "light"
     },
     "output_type": "display_data"
    },
    {
     "data": {
      "text/plain": [
       "<Figure size 432x288 with 0 Axes>"
      ]
     },
     "metadata": {},
     "output_type": "display_data"
    }
   ],
   "source": [
    "#filtered_thenumbers dataframe contains 1,843 rows of data.\n",
    "#create a scatter plot using pandas\n",
    "filtered_thenumbers.plot(kind='scatter', x='production_budget', y='worldwide_gross')\n",
    "\n",
    "#fit and plot the line of best fit\n",
    "fit = np.polyfit(filtered_thenumbers['production_budget'], filtered_thenumbers['worldwide_gross'], 1)\n",
    "plt.plot(filtered_thenumbers['production_budget'], fit[0] * filtered_thenumbers['production_budget'] + fit[1], color='red')\n",
    "\n",
    "#set labels and title\n",
    "plt.xlabel('Production Budget')\n",
    "plt.ylabel('Worldwide Gross Revenue')\n",
    "plt.title('Budget vs Worldwide Gross Revenue')\n",
    "\n",
    "#show the plot\n",
    "plt.show()\n",
    "\n",
    "#save plot\n",
    "plt.savefig(\"./Graphs/linefit_gross.png\", dpi=150)"
   ]
  },
  {
   "cell_type": "markdown",
   "id": "3a2df47c",
   "metadata": {
    "hidden": true
   },
   "source": [
    "To verify, I will examine if there exists a positive correlation within the unfiltered dataframe. As illustrated in the graph below, the unfiltered dataframe exhibits a similar positive correlation, reinforcing the notion that the success of a movie is often determined by its budget."
   ]
  },
  {
   "cell_type": "code",
   "execution_count": 120,
   "id": "b5dc06e8",
   "metadata": {
    "hidden": true,
    "scrolled": true
   },
   "outputs": [
    {
     "data": {
      "image/png": "[encoded data removed]",
      "text/plain": [
       "<Figure size 432x288 with 1 Axes>"
      ]
     },
     "metadata": {
      "needs_background": "light"
     },
     "output_type": "display_data"
    },
    {
     "data": {
      "text/plain": [
       "<Figure size 432x288 with 0 Axes>"
      ]
     },
     "metadata": {},
     "output_type": "display_data"
    }
   ],
   "source": [
    "#thenumbers dataframe contains 3,839 rows of data.\n",
    "#create a scatter plot using pandas\n",
    "thenumbers.plot(kind='scatter', x='production_budget', y='worldwide_gross')\n",
    "\n",
    "#fit and plot the line of best fit\n",
    "fit = np.polyfit(thenumbers['production_budget'], thenumbers['worldwide_gross'], 1)\n",
    "plt.plot(thenumbers['production_budget'], fit[0] * thenumbers['production_budget'] + fit[1], color='red')\n",
    "\n",
    "#set labels and title\n",
    "plt.xlabel('Production Budget')\n",
    "plt.ylabel('Worldwide Gross')\n",
    "plt.title('Budget vs Worldwide Gross Revenue')\n",
    "\n",
    "#show the plot\n",
    "plt.show();\n",
    "\n",
    "#save plot\n",
    "plt.savefig(\"./Graphs/linefit_gross2.png\", dpi=150)"
   ]
  },
  {
   "cell_type": "markdown",
   "id": "43e1fe49",
   "metadata": {
    "hidden": true
   },
   "source": [
    "Based on my analysis, it's evident that the budget significantly impacts the revenue and profitability of a movie. As the budget increases, there is a corresponding rise in revenue and profit, highlighting the crucial role of financial investment in the success of a film."
   ]
  },
  {
   "cell_type": "markdown",
   "id": "a226a10e",
   "metadata": {},
   "source": [
    "# Conclusions"
   ]
  },
  {
   "cell_type": "markdown",
   "id": "a907113d",
   "metadata": {},
   "source": [
    "The head of the movie studio company must consider various factors to make informed decisions about film production, with the ultimate goal of creating successful movies. This leads to my three key recommendations:\n",
    "\n",
    "1. **Identifying Popular Genres:** By analyzing the number of votes and ratings, I've determined that Action, Adventure, Sci-Fi, Animation, Comedy, and Drama are the most watched and attractive genres. These genres have consistently received high ratings and garnered significant audience engagement. Focusing on these genres, especially since 2000, ensures alignment with public preferences, maximizing the potential for box office success. Additionally, these genres often offer diverse storytelling opportunities and appeal to a wide range of demographics, enhancing their commercial viability.\n",
    "\n",
    "2. **Optimal Release Timing:** My analysis indicates that the best months for releasing films are April, May, and the summer months of June and July for warm seasons, and November and December for the cold season. Several factors contribute to this trend. For instance, the summer months coincide with school vacations and increased leisure time for families, resulting in higher movie attendance. Moreover, the holiday season in November and December sees a surge in moviegoing as people seek entertainment during festive periods.\n",
    "\n",
    "3. **Financial Success Metrics:** The success of a movie and our studio's profitability are closely tied to financial performance metrics. Specifically, a film is considered financially successful if its gross revenue doubles its production budget. Through comprehensive analysis of worldwide revenue data, we've observed a clear correlation between budget investment and revenue generation. Higher budgets often lead to increased revenue and profitability, underscoring the critical role of financial investment in achieving box office success. Therefore, strategic budget allocation aligned with revenue objectives is essential for maximizing profitability and ensuring sustainable growth in the competitive movie industry landscape."
   ]
  }
 ],
 "metadata": {
  "kernelspec": {
   "display_name": "Python (learn-env)",
   "language": "python",
   "name": "learn-env"
  },
  "language_info": {
   "codemirror_mode": {
    "name": "ipython",
    "version": 3
   },
   "file_extension": ".py",
   "mimetype": "text/x-python",
   "name": "python",
   "nbconvert_exporter": "python",
   "pygments_lexer": "ipython3",
   "version": "3.8.5"
  }
 },
 "nbformat": 4,
 "nbformat_minor": 5
}
